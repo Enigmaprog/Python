{
 "cells": [
  {
   "cell_type": "code",
   "execution_count": 1,
   "metadata": {},
   "outputs": [],
   "source": [
    "import pandas as pd\n",
    "import numpy as np\n",
    "from urllib.request import urlopen\n",
    "from bs4 import BeautifulSoup\n",
    "import re\n",
    "\n",
    "from datetime import date"
   ]
  },
  {
   "cell_type": "code",
   "execution_count": 2,
   "metadata": {},
   "outputs": [],
   "source": [
    "html = urlopen(\"http://mse.mn/mn/company/458\")\n",
    "soup = BeautifulSoup(html)"
   ]
  },
  {
   "cell_type": "code",
   "execution_count": 3,
   "metadata": {},
   "outputs": [
    {
     "data": {
      "text/plain": [
       "<title>Монголын Хөрөнгийн Бирж - Таван толгой ХК </title>"
      ]
     },
     "execution_count": 3,
     "metadata": {},
     "output_type": "execute_result"
    }
   ],
   "source": [
    "soup.title"
   ]
  },
  {
   "cell_type": "code",
   "execution_count": 5,
   "metadata": {},
   "outputs": [
    {
     "data": {
      "text/plain": [
       "'Монголын Хөрөнгийн Бирж - Таван толгой ХК'"
      ]
     },
     "execution_count": 5,
     "metadata": {},
     "output_type": "execute_result"
    }
   ],
   "source": [
    "soup.title.text.strip()"
   ]
  },
  {
   "cell_type": "code",
   "execution_count": 20,
   "metadata": {},
   "outputs": [],
   "source": [
    "df = pd.DataFrame()\n",
    "for row in soup.find_all(\"div\", class_=\"company_finance_item\"):\n",
    "    col_name = row[\"id\"][8:]\n",
    "    row_data = row.find_all(\"li\")\n",
    "    dic = {}\n",
    "    if row_data:\n",
    "        for el in row_data:\n",
    "            s = el.text.split()\n",
    "            str_vals = []\n",
    "            for c in s:\n",
    "                if c.isalpha() or '/' in c or ')' in c:\n",
    "                    str_vals.append(c)\n",
    "                else:\n",
    "                    if any(q.isalpha() for q in c):\n",
    "                        temp = \"\"\n",
    "                        for i in range(len(c)):\n",
    "                            if c[i].isdigit():\n",
    "                                str_vals.append(c[:i])\n",
    "                                num = c[i:]\n",
    "                                break\n",
    "                    else:\n",
    "                        num = c\n",
    "            dic[\" \".join(str_vals)] = float(num.replace(',',''))\n",
    "        new_df = pd.DataFrame(dic.values(), index=dic.keys(), columns=[col_name])\n",
    "        df = pd.concat([new_df, df], axis=1, sort=False)"
   ]
  },
  {
   "cell_type": "code",
   "execution_count": 22,
   "metadata": {},
   "outputs": [],
   "source": [
    "df.to_csv(\"TTL_finance_ratio.csv\")"
   ]
  }
 ],
 "metadata": {
  "kernelspec": {
   "display_name": "Python 3",
   "language": "python",
   "name": "python3"
  },
  "language_info": {
   "codemirror_mode": {
    "name": "ipython",
    "version": 3
   },
   "file_extension": ".py",
   "mimetype": "text/x-python",
   "name": "python",
   "nbconvert_exporter": "python",
   "pygments_lexer": "ipython3",
   "version": "3.8.5"
  }
 },
 "nbformat": 4,
 "nbformat_minor": 4
}
