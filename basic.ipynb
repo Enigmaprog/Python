{
  "cells": [
    {
      "cell_type": "markdown",
      "metadata": {
        "id": "9rIQpk5amTE_"
      },
      "source": [
        "# Python language"
      ]
    },
    {
      "cell_type": "markdown",
      "metadata": {
        "id": "6KLmmwCebOhe"
      },
      "source": [
        "## Print"
      ]
    },
    {
      "cell_type": "code",
      "execution_count": 5,
      "metadata": {
        "colab": {
          "base_uri": "https://localhost:8080/"
        },
        "id": "jBWTQMi3lWZX",
        "outputId": "76d84ad2-d858-4585-f713-57b0c9dfe2bb"
      },
      "outputs": [
        {
          "data": {
            "text/plain": [
              "52.142857142857146"
            ]
          },
          "execution_count": 5,
          "metadata": {},
          "output_type": "execute_result"
        }
      ],
      "source": [
        "365 / 7"
      ]
    },
    {
      "cell_type": "code",
      "execution_count": 6,
      "metadata": {
        "colab": {
          "base_uri": "https://localhost:8080/"
        },
        "id": "byUaWvDUkZyQ",
        "outputId": "1c3a3628-9ddb-4c48-ba8f-17aa96b05b48"
      },
      "outputs": [
        {
          "name": "stdout",
          "output_type": "stream",
          "text": [
            "Hello world!\n"
          ]
        }
      ],
      "source": [
        "print(\"Hello world!\")"
      ]
    },
    {
      "cell_type": "code",
      "execution_count": 7,
      "metadata": {
        "colab": {
          "base_uri": "https://localhost:8080/"
        },
        "id": "BoYwD-QVOJHT",
        "outputId": "2d11167e-3bcd-4bc3-f886-3f64f0d8ee4f"
      },
      "outputs": [
        {
          "name": "stdout",
          "output_type": "stream",
          "text": [
            "Python VS 10\n",
            "My name is Nomuundalai\n"
          ]
        }
      ],
      "source": [
        "print('{} VS {}'.format(\"Python\", 10))\n",
        "print('My name is {}'.format(\"Nomuundalai\"))"
      ]
    },
    {
      "cell_type": "code",
      "execution_count": 8,
      "metadata": {
        "colab": {
          "base_uri": "https://localhost:8080/"
        },
        "id": "3cNKPiCeSIAj",
        "outputId": "b2488399-7506-482c-ff5b-a59a7ffa2d4a"
      },
      "outputs": [
        {
          "name": "stdout",
          "output_type": "stream",
          "text": [
            "    python\n",
            "javascript\n",
            "enigmajavascript\n",
            "My favorite programming languege is Python     Anything\n",
            "abcdefghij\n"
          ]
        }
      ],
      "source": [
        "print(\"{:>10}\".format(\"python\"))\n",
        "print(\"{:>10}\".format(\"javascript\"))\n",
        "print(\"{:>10}\".format(\"enigmajavascript\"))\n",
        "print('My favorite programming languege is {:10} Anything'.format(\"Python\"))\n",
        "print('{:.10}'.format(\"abcdefghijklmnop\"))"
      ]
    },
    {
      "cell_type": "code",
      "execution_count": 9,
      "metadata": {
        "colab": {
          "base_uri": "https://localhost:8080/"
        },
        "id": "LIXk7KOUV0VU",
        "outputId": "b93a47d7-cfcd-4f2f-abe3-b816483c0194"
      },
      "outputs": [
        {
          "name": "stdout",
          "output_type": "stream",
          "text": [
            "Ga.Dorjoo\n"
          ]
        }
      ],
      "source": [
        "print('{:.2}.{}'.format(\"Ganaa\", \"Dorjoo\"))"
      ]
    },
    {
      "cell_type": "code",
      "execution_count": 10,
      "metadata": {
        "colab": {
          "base_uri": "https://localhost:8080/"
        },
        "id": "Nof3OdHKW9VD",
        "outputId": "97053883-a1da-4070-dfb4-4899ffbf11c8"
      },
      "outputs": [
        {
          "name": "stdout",
          "output_type": "stream",
          "text": [
            "25.290000\n"
          ]
        }
      ],
      "source": [
        "print('{:f}'.format(25.29))"
      ]
    },
    {
      "cell_type": "code",
      "execution_count": 11,
      "metadata": {
        "colab": {
          "base_uri": "https://localhost:8080/"
        },
        "id": "k6GZDe5SXO88",
        "outputId": "5ea00cb1-5059-42e1-a748-ad3e4b11df32"
      },
      "outputs": [
        {
          "name": "stdout",
          "output_type": "stream",
          "text": [
            "                           100\n"
          ]
        }
      ],
      "source": [
        "print('{:30d}'.format(100))"
      ]
    },
    {
      "cell_type": "code",
      "execution_count": 12,
      "metadata": {
        "colab": {
          "base_uri": "https://localhost:8080/"
        },
        "id": "R2iPm6GVX5h0",
        "outputId": "0b7e7cd5-32e5-4ca8-bd00-a5fb9f6dbb52"
      },
      "outputs": [
        {
          "name": "stdout",
          "output_type": "stream",
          "text": [
            "3.14\n"
          ]
        }
      ],
      "source": [
        "print('{:04.2f}'.format(3.141592))"
      ]
    },
    {
      "cell_type": "markdown",
      "metadata": {
        "id": "R6KR9vIgY6bk"
      },
      "source": [
        "## Input"
      ]
    },
    {
      "cell_type": "code",
      "execution_count": 13,
      "metadata": {
        "colab": {
          "base_uri": "https://localhost:8080/",
          "height": 53
        },
        "id": "A-_fj3uUYXlk",
        "outputId": "33835c3d-fae0-4feb-ecf4-7aa52da586d4"
      },
      "outputs": [
        {
          "data": {
            "text/plain": [
              "'564'"
            ]
          },
          "execution_count": 13,
          "metadata": {},
          "output_type": "execute_result"
        }
      ],
      "source": [
        "input()"
      ]
    },
    {
      "cell_type": "code",
      "execution_count": 13,
      "metadata": {
        "colab": {
          "base_uri": "https://localhost:8080/"
        },
        "id": "CrePYSkkZCT8",
        "outputId": "2dcc012e-bb8d-44e1-aec4-512959a2f008"
      },
      "outputs": [
        {
          "name": "stdout",
          "output_type": "stream",
          "text": [
            "Dalai\n"
          ]
        }
      ],
      "source": [
        "ner = input(\"Tanii ner hun be?\")\n",
        "print(ner)"
      ]
    },
    {
      "cell_type": "code",
      "execution_count": 15,
      "metadata": {
        "colab": {
          "base_uri": "https://localhost:8080/"
        },
        "id": "OONPaAzPZIDs",
        "outputId": "361435d9-48e3-4223-f3d3-3ea7591ea8a9"
      },
      "outputs": [
        {
          "name": "stdout",
          "output_type": "stream",
          "text": [
            "Ehnii too  \n",
            " Hoyor doh too \n"
          ]
        }
      ],
      "source": [
        "a = input(\"Duriin too oruulna uu \")\n",
        "b = input(\"Duriin too \")\n",
        "print(\"Ehnii too {} \\n Hoyor doh too {}\". format(a,b))"
      ]
    },
    {
      "cell_type": "markdown",
      "metadata": {
        "id": "DL0lqTfufmgM"
      },
      "source": [
        "### Split"
      ]
    },
    {
      "cell_type": "code",
      "execution_count": 17,
      "metadata": {
        "colab": {
          "base_uri": "https://localhost:8080/"
        },
        "id": "j_f4uuT2dNwr",
        "outputId": "2456ced5-72de-4719-9031-44f201cb23ab"
      },
      "outputs": [
        {
          "name": "stdout",
          "output_type": "stream",
          "text": [
            "5 6 7\n"
          ]
        }
      ],
      "source": [
        "a, b, c = input().split(\"_\") # defaultaar zaigaar tusgaarlan\n",
        "print(a, b, c)"
      ]
    },
    {
      "cell_type": "markdown",
      "metadata": {
        "id": "Q4ZaQxInfsms"
      },
      "source": [
        "### Map"
      ]
    },
    {
      "cell_type": "code",
      "execution_count": 18,
      "metadata": {
        "colab": {
          "base_uri": "https://localhost:8080/"
        },
        "id": "m89KOk_Jdi8s",
        "outputId": "b541bf10-e05a-4c01-c097-098d683b7306"
      },
      "outputs": [
        {
          "name": "stdout",
          "output_type": "stream",
          "text": [
            "Sum : 7\n",
            " Product : 12\n"
          ]
        }
      ],
      "source": [
        "a, b = map(int, input().split())\n",
        "print(\"Sum : {}\\n Product : {}\".format(a + b, a * b))"
      ]
    },
    {
      "cell_type": "markdown",
      "metadata": {
        "id": "eoRoD-JFmXTy"
      },
      "source": [
        "## Өгөгдлийн төрлүүд"
      ]
    },
    {
      "cell_type": "code",
      "execution_count": 19,
      "metadata": {
        "colab": {
          "base_uri": "https://localhost:8080/"
        },
        "id": "TdMmVhOCmdd0",
        "outputId": "a0bb7afa-4cfa-4426-e3cd-ad48365dacae"
      },
      "outputs": [
        {
          "name": "stdout",
          "output_type": "stream",
          "text": [
            "sample\n"
          ]
        }
      ],
      "source": [
        "_var = 'sample'\n",
        "print(_var)"
      ]
    },
    {
      "cell_type": "markdown",
      "metadata": {
        "id": "oLqmNl3xnzLd"
      },
      "source": [
        "### Integer"
      ]
    },
    {
      "cell_type": "code",
      "execution_count": 20,
      "metadata": {
        "colab": {
          "base_uri": "https://localhost:8080/"
        },
        "id": "9crS2Nn1oEQE",
        "outputId": "ca749442-bc2e-4cb4-f16d-7272f12a81e7"
      },
      "outputs": [
        {
          "name": "stdout",
          "output_type": "stream",
          "text": [
            "100 -10 24738464864653135544 222646183781878219896\n"
          ]
        }
      ],
      "source": [
        "a = 100\n",
        "b = -10\n",
        "c = 24738464864653135544\n",
        "print(a, b, c, c*9)"
      ]
    },
    {
      "cell_type": "code",
      "execution_count": 21,
      "metadata": {
        "colab": {
          "base_uri": "https://localhost:8080/"
        },
        "id": "r-EUS4Xcoavz",
        "outputId": "6bcc2788-486d-4a30-ab12-3c4badd98f93"
      },
      "outputs": [
        {
          "data": {
            "text/plain": [
              "int"
            ]
          },
          "execution_count": 21,
          "metadata": {},
          "output_type": "execute_result"
        }
      ],
      "source": [
        "type(c)"
      ]
    },
    {
      "cell_type": "markdown",
      "metadata": {
        "id": "Df-GKh4UoFOU"
      },
      "source": [
        "### Float"
      ]
    },
    {
      "cell_type": "code",
      "execution_count": 22,
      "metadata": {
        "colab": {
          "base_uri": "https://localhost:8080/"
        },
        "id": "zXFrXyu2oGlc",
        "outputId": "389a434d-6d38-4981-91f5-99f187a34074"
      },
      "outputs": [
        {
          "name": "stdout",
          "output_type": "stream",
          "text": [
            "1.03 1000000000.0 0.001\n"
          ]
        }
      ],
      "source": [
        "a = 1.03\n",
        "b = 1e9\n",
        "c = 1e-3\n",
        "print(a,b,c)"
      ]
    },
    {
      "cell_type": "code",
      "execution_count": 23,
      "metadata": {
        "colab": {
          "base_uri": "https://localhost:8080/"
        },
        "id": "LZFNvF2Go3z-",
        "outputId": "26ad05c0-58ee-4eb3-c958-af74694c7a0e"
      },
      "outputs": [
        {
          "name": "stdout",
          "output_type": "stream",
          "text": [
            "-3.14\n"
          ]
        }
      ],
      "source": [
        "d = -3.14\n",
        "print(d)"
      ]
    },
    {
      "cell_type": "code",
      "execution_count": 24,
      "metadata": {
        "colab": {
          "base_uri": "https://localhost:8080/"
        },
        "id": "fHtQDRCzo8Wt",
        "outputId": "7e04b0f9-7c19-433f-c43a-7658db323ccd"
      },
      "outputs": [
        {
          "name": "stdout",
          "output_type": "stream",
          "text": [
            "<class 'float'>\n",
            "<class 'float'>\n",
            "<class 'float'>\n",
            "<class 'float'>\n"
          ]
        }
      ],
      "source": [
        "print(type(a), type(b), type(c), type(d), sep='\\n')"
      ]
    },
    {
      "cell_type": "markdown",
      "metadata": {
        "id": "Ff8Nf4yAoHRE"
      },
      "source": [
        "### Complex number"
      ]
    },
    {
      "cell_type": "code",
      "execution_count": 25,
      "metadata": {
        "colab": {
          "base_uri": "https://localhost:8080/"
        },
        "id": "e5p_P8Z_oJEV",
        "outputId": "78b85e92-9478-47f0-c96f-359cf9413458"
      },
      "outputs": [
        {
          "name": "stdout",
          "output_type": "stream",
          "text": [
            "(2+1j)\n"
          ]
        },
        {
          "data": {
            "text/plain": [
              "(4+4j)"
            ]
          },
          "execution_count": 25,
          "metadata": {},
          "output_type": "execute_result"
        }
      ],
      "source": [
        "a = 2 + 1j    # j - huurmag too\n",
        "print(a)\n",
        "a + 2 + 3j"
      ]
    },
    {
      "cell_type": "code",
      "execution_count": 26,
      "metadata": {
        "colab": {
          "base_uri": "https://localhost:8080/"
        },
        "id": "hWIkWnbAsZqe",
        "outputId": "98d37198-1d63-4e83-b7d6-13c867548fa5"
      },
      "outputs": [
        {
          "data": {
            "text/plain": [
              "complex"
            ]
          },
          "execution_count": 26,
          "metadata": {},
          "output_type": "execute_result"
        }
      ],
      "source": [
        "type(a)"
      ]
    },
    {
      "cell_type": "markdown",
      "metadata": {
        "id": "gO8xM_-ftA1l"
      },
      "source": [
        "### Built-in Functions"
      ]
    },
    {
      "cell_type": "code",
      "execution_count": 27,
      "metadata": {
        "colab": {
          "base_uri": "https://localhost:8080/"
        },
        "id": "uSkfSVHKtL_9",
        "outputId": "7a0779b7-a0a7-4df9-930c-9bbf4ca38657"
      },
      "outputs": [
        {
          "data": {
            "text/plain": [
              "100"
            ]
          },
          "execution_count": 27,
          "metadata": {},
          "output_type": "execute_result"
        }
      ],
      "source": [
        "abs(-100)   # abs - module"
      ]
    },
    {
      "cell_type": "code",
      "execution_count": 28,
      "metadata": {
        "colab": {
          "base_uri": "https://localhost:8080/"
        },
        "id": "xUIr46BvtRTF",
        "outputId": "1350a0e3-cf61-4341-e771-aabce33f3d7b"
      },
      "outputs": [
        {
          "data": {
            "text/plain": [
              "100"
            ]
          },
          "execution_count": 28,
          "metadata": {},
          "output_type": "execute_result"
        }
      ],
      "source": [
        "abs(100)"
      ]
    },
    {
      "cell_type": "code",
      "execution_count": 29,
      "metadata": {
        "colab": {
          "base_uri": "https://localhost:8080/"
        },
        "id": "GFnp2dA8tT5G",
        "outputId": "defd436b-d385-47b0-bd4a-aaf1d9cad487"
      },
      "outputs": [
        {
          "data": {
            "text/plain": [
              "3"
            ]
          },
          "execution_count": 29,
          "metadata": {},
          "output_type": "execute_result"
        }
      ],
      "source": [
        "int(3.141592)"
      ]
    },
    {
      "cell_type": "code",
      "execution_count": 30,
      "metadata": {
        "colab": {
          "base_uri": "https://localhost:8080/"
        },
        "id": "zsX7hIUIttTO",
        "outputId": "03322d82-1a2a-4c0c-fdad-1365cf578122"
      },
      "outputs": [
        {
          "data": {
            "text/plain": [
              "100.0"
            ]
          },
          "execution_count": 30,
          "metadata": {},
          "output_type": "execute_result"
        }
      ],
      "source": [
        "float(100)"
      ]
    },
    {
      "cell_type": "code",
      "execution_count": 31,
      "metadata": {
        "colab": {
          "base_uri": "https://localhost:8080/"
        },
        "id": "t4VFXaTqt0Id",
        "outputId": "41b91392-ae56-4256-cf3f-a362353f453e"
      },
      "outputs": [
        {
          "data": {
            "text/plain": [
              "(100+0j)"
            ]
          },
          "execution_count": 31,
          "metadata": {},
          "output_type": "execute_result"
        }
      ],
      "source": [
        "complex(100)"
      ]
    },
    {
      "cell_type": "code",
      "execution_count": 32,
      "metadata": {
        "colab": {
          "base_uri": "https://localhost:8080/",
          "height": 35
        },
        "id": "KzYc8MPZt3A1",
        "outputId": "4970805f-19aa-43c4-85ea-ad41ba9c7720"
      },
      "outputs": [
        {
          "data": {
            "text/plain": [
              "'0xa'"
            ]
          },
          "execution_count": 32,
          "metadata": {},
          "output_type": "execute_result"
        }
      ],
      "source": [
        "hex(10)"
      ]
    },
    {
      "cell_type": "code",
      "execution_count": 33,
      "metadata": {
        "colab": {
          "base_uri": "https://localhost:8080/",
          "height": 35
        },
        "id": "2PC3vanouFQV",
        "outputId": "035bc6ac-7fa7-462d-fdfa-a0d88978d293"
      },
      "outputs": [
        {
          "data": {
            "text/plain": [
              "'0xb'"
            ]
          },
          "execution_count": 33,
          "metadata": {},
          "output_type": "execute_result"
        }
      ],
      "source": [
        "hex(11)"
      ]
    },
    {
      "cell_type": "markdown",
      "metadata": {
        "id": "WGb9QlSeuTLm"
      },
      "source": [
        "### Logic төрөл"
      ]
    },
    {
      "cell_type": "code",
      "execution_count": 34,
      "metadata": {
        "colab": {
          "base_uri": "https://localhost:8080/"
        },
        "id": "dKWfp78euQiF",
        "outputId": "97038442-d9fc-4ae6-e52d-39f4ee4086a5"
      },
      "outputs": [
        {
          "data": {
            "text/plain": [
              "bool"
            ]
          },
          "execution_count": 34,
          "metadata": {},
          "output_type": "execute_result"
        }
      ],
      "source": [
        "a = True\n",
        "b = False\n",
        "type(a)"
      ]
    },
    {
      "cell_type": "markdown",
      "metadata": {
        "id": "9BPuYmG9uWVV"
      },
      "source": [
        "### String төрөл"
      ]
    },
    {
      "cell_type": "code",
      "execution_count": 35,
      "metadata": {
        "colab": {
          "base_uri": "https://localhost:8080/"
        },
        "id": "s6UBeFu4ufYl",
        "outputId": "9a0ee51e-39a7-49ae-aa6c-6a5d5e8dbcc0"
      },
      "outputs": [
        {
          "data": {
            "text/plain": [
              "str"
            ]
          },
          "execution_count": 35,
          "metadata": {},
          "output_type": "execute_result"
        }
      ],
      "source": [
        "var = \"sokod\"\n",
        "type(var)"
      ]
    },
    {
      "cell_type": "code",
      "execution_count": 36,
      "metadata": {
        "colab": {
          "base_uri": "https://localhost:8080/",
          "height": 35
        },
        "id": "5LkiewjfvYcm",
        "outputId": "fb6f8548-788d-421f-9f5c-fb05860c501d"
      },
      "outputs": [
        {
          "data": {
            "text/plain": [
              "'sample1234'"
            ]
          },
          "execution_count": 36,
          "metadata": {},
          "output_type": "execute_result"
        }
      ],
      "source": [
        "var1 = \"sample\"\n",
        "var1 + '1234'"
      ]
    },
    {
      "cell_type": "code",
      "execution_count": 37,
      "metadata": {
        "colab": {
          "base_uri": "https://localhost:8080/",
          "height": 35
        },
        "id": "OisJvIMpvyO9",
        "outputId": "a6b5dce0-1e86-424a-d876-4e99bc534569"
      },
      "outputs": [
        {
          "data": {
            "text/plain": [
              "'samplesamplesample'"
            ]
          },
          "execution_count": 37,
          "metadata": {},
          "output_type": "execute_result"
        }
      ],
      "source": [
        "var1 * 3"
      ]
    },
    {
      "cell_type": "code",
      "execution_count": 38,
      "metadata": {
        "colab": {
          "base_uri": "https://localhost:8080/",
          "height": 35
        },
        "id": "yPVjVTlKv7C2",
        "outputId": "254f8f4b-a9bc-423c-c5c1-475f0eda039e"
      },
      "outputs": [
        {
          "data": {
            "text/plain": [
              "'SAMPLE'"
            ]
          },
          "execution_count": 38,
          "metadata": {},
          "output_type": "execute_result"
        }
      ],
      "source": [
        "var1.upper()"
      ]
    },
    {
      "cell_type": "code",
      "execution_count": 39,
      "metadata": {
        "colab": {
          "base_uri": "https://localhost:8080/",
          "height": 35
        },
        "id": "3MpC5sz-v8VV",
        "outputId": "e31b7fc4-251d-410d-cf33-17d4c9834dd2"
      },
      "outputs": [
        {
          "data": {
            "text/plain": [
              "'sample'"
            ]
          },
          "execution_count": 39,
          "metadata": {},
          "output_type": "execute_result"
        }
      ],
      "source": [
        "var1.lower()"
      ]
    },
    {
      "cell_type": "code",
      "execution_count": 40,
      "metadata": {
        "id": "ONWPnwbkwFj2"
      },
      "outputs": [],
      "source": [
        "var2 = '     John       '"
      ]
    },
    {
      "cell_type": "code",
      "execution_count": 41,
      "metadata": {
        "colab": {
          "base_uri": "https://localhost:8080/",
          "height": 35
        },
        "id": "DVsELaepwJt1",
        "outputId": "1899d158-6b0e-4365-d1eb-572ad006f8f7"
      },
      "outputs": [
        {
          "data": {
            "text/plain": [
              "'John'"
            ]
          },
          "execution_count": 41,
          "metadata": {},
          "output_type": "execute_result"
        }
      ],
      "source": [
        "var2.strip()"
      ]
    },
    {
      "cell_type": "code",
      "execution_count": 42,
      "metadata": {
        "colab": {
          "base_uri": "https://localhost:8080/",
          "height": 35
        },
        "id": "8SGosPbIwML-",
        "outputId": "947bed07-6d9a-4375-fe2c-eca8916dc99d"
      },
      "outputs": [
        {
          "data": {
            "text/plain": [
              "'John       '"
            ]
          },
          "execution_count": 42,
          "metadata": {},
          "output_type": "execute_result"
        }
      ],
      "source": [
        "var2.lstrip()"
      ]
    },
    {
      "cell_type": "code",
      "execution_count": 43,
      "metadata": {
        "colab": {
          "base_uri": "https://localhost:8080/",
          "height": 35
        },
        "id": "04-Ab-RkwQd9",
        "outputId": "c8aa733a-bb33-48ec-ff5a-0dad1b6bb54f"
      },
      "outputs": [
        {
          "data": {
            "text/plain": [
              "'     John'"
            ]
          },
          "execution_count": 43,
          "metadata": {},
          "output_type": "execute_result"
        }
      ],
      "source": [
        "var2.rstrip()"
      ]
    },
    {
      "cell_type": "code",
      "execution_count": 44,
      "metadata": {
        "colab": {
          "base_uri": "https://localhost:8080/",
          "height": 35
        },
        "id": "PCH46oFHwUKl",
        "outputId": "88cb0d47-f37d-4eeb-c9d2-c03cd43c213a"
      },
      "outputs": [
        {
          "data": {
            "text/plain": [
              "'sample@gmail.com'"
            ]
          },
          "execution_count": 44,
          "metadata": {},
          "output_type": "execute_result"
        }
      ],
      "source": [
        "email = 'sample#gmail.com'\n",
        "email.replace('#','@')"
      ]
    },
    {
      "cell_type": "markdown",
      "metadata": {
        "id": "OZvdFuXjUnI9"
      },
      "source": [
        "## Операторууд"
      ]
    },
    {
      "cell_type": "markdown",
      "metadata": {
        "id": "RWk-e34FUzK1"
      },
      "source": [
        "### Arithmetic Operator"
      ]
    },
    {
      "cell_type": "code",
      "execution_count": 45,
      "metadata": {
        "id": "0XyRww09bUOO"
      },
      "outputs": [],
      "source": [
        "a = 13\n",
        "b = 4"
      ]
    },
    {
      "cell_type": "markdown",
      "metadata": {
        "id": "UDhE_cw2VX8t"
      },
      "source": [
        "#### Нэмэх (Addition)"
      ]
    },
    {
      "cell_type": "code",
      "execution_count": 46,
      "metadata": {
        "colab": {
          "base_uri": "https://localhost:8080/"
        },
        "id": "qa7er2nVcC_V",
        "outputId": "90959e69-c787-48a3-b60d-ab247d4d9648"
      },
      "outputs": [
        {
          "name": "stdout",
          "output_type": "stream",
          "text": [
            "17\n"
          ]
        }
      ],
      "source": [
        "add = a + b\n",
        "print(add)"
      ]
    },
    {
      "cell_type": "markdown",
      "metadata": {
        "id": "lyjLGx4MVhed"
      },
      "source": [
        "#### Хасах (Subtraction)"
      ]
    },
    {
      "cell_type": "code",
      "execution_count": 47,
      "metadata": {
        "colab": {
          "base_uri": "https://localhost:8080/"
        },
        "id": "biWMdE-EcqHO",
        "outputId": "4864c89c-d23b-41e6-d096-c1e0ef1ffe48"
      },
      "outputs": [
        {
          "name": "stdout",
          "output_type": "stream",
          "text": [
            "9\n"
          ]
        }
      ],
      "source": [
        "sub = a - b\n",
        "print(sub)"
      ]
    },
    {
      "cell_type": "markdown",
      "metadata": {
        "id": "qum5dgowVp4s"
      },
      "source": [
        "#### Үржүүлэх (Multiplication)"
      ]
    },
    {
      "cell_type": "code",
      "execution_count": 48,
      "metadata": {
        "colab": {
          "base_uri": "https://localhost:8080/"
        },
        "id": "n81Q4v67cuf3",
        "outputId": "498bb523-60b1-4a16-d849-477f6cb63e20"
      },
      "outputs": [
        {
          "name": "stdout",
          "output_type": "stream",
          "text": [
            "52\n"
          ]
        }
      ],
      "source": [
        "mul = a * b\n",
        "print(mul)"
      ]
    },
    {
      "cell_type": "markdown",
      "metadata": {
        "id": "Vy48FXLZWG1U"
      },
      "source": [
        "#### Үлдэгдэлтэй хуваах (Division - float)"
      ]
    },
    {
      "cell_type": "code",
      "execution_count": 49,
      "metadata": {
        "colab": {
          "base_uri": "https://localhost:8080/"
        },
        "id": "5Tkt919kdotF",
        "outputId": "7be44b42-a6ce-45e1-c9de-b47b062d6ac6"
      },
      "outputs": [
        {
          "name": "stdout",
          "output_type": "stream",
          "text": [
            "3.25\n"
          ]
        }
      ],
      "source": [
        "div1 = a / b\n",
        "print(div1)"
      ]
    },
    {
      "cell_type": "markdown",
      "metadata": {
        "id": "a_b2WPbcWiqW"
      },
      "source": [
        "#### Бүхэлчилж хуваах (Division - floor)"
      ]
    },
    {
      "cell_type": "code",
      "execution_count": 50,
      "metadata": {
        "colab": {
          "base_uri": "https://localhost:8080/"
        },
        "id": "u-1V5rNUd0j3",
        "outputId": "26b776a4-36ed-4c44-c5bb-0c3cc5161b89"
      },
      "outputs": [
        {
          "name": "stdout",
          "output_type": "stream",
          "text": [
            "3\n"
          ]
        }
      ],
      "source": [
        "div2 = a // b\n",
        "print(div2)"
      ]
    },
    {
      "cell_type": "markdown",
      "metadata": {
        "id": "itDTGXP3YF7V"
      },
      "source": [
        "#### Үлдэгдэл (Modulus)"
      ]
    },
    {
      "cell_type": "code",
      "execution_count": 51,
      "metadata": {
        "colab": {
          "base_uri": "https://localhost:8080/"
        },
        "id": "jP9bnO99d5h-",
        "outputId": "1c1a3d96-f1b5-4210-82d6-61594fae7463"
      },
      "outputs": [
        {
          "name": "stdout",
          "output_type": "stream",
          "text": [
            "1\n"
          ]
        }
      ],
      "source": [
        "mod = a % b\n",
        "print(mod)"
      ]
    },
    {
      "cell_type": "markdown",
      "metadata": {
        "id": "kxMNHoMkYOWp"
      },
      "source": [
        "### Relational Operator"
      ]
    },
    {
      "cell_type": "code",
      "execution_count": 52,
      "metadata": {
        "id": "JLaLo8ZZeI5u"
      },
      "outputs": [],
      "source": [
        "a = 23\n",
        "b = 37"
      ]
    },
    {
      "cell_type": "markdown",
      "metadata": {
        "id": "1nQUKe6eYab-"
      },
      "source": [
        "#### Greater than"
      ]
    },
    {
      "cell_type": "code",
      "execution_count": 53,
      "metadata": {
        "colab": {
          "base_uri": "https://localhost:8080/"
        },
        "id": "uORN9PPceWp9",
        "outputId": "0ef4173d-020f-41c9-89d1-19d6e3f9fe15"
      },
      "outputs": [
        {
          "name": "stdout",
          "output_type": "stream",
          "text": [
            "False\n"
          ]
        }
      ],
      "source": [
        "print(a > b)"
      ]
    },
    {
      "cell_type": "markdown",
      "metadata": {
        "id": "hPuAsYbIYfg-"
      },
      "source": [
        "#### Less than"
      ]
    },
    {
      "cell_type": "code",
      "execution_count": 54,
      "metadata": {
        "colab": {
          "base_uri": "https://localhost:8080/"
        },
        "id": "stNkpBBxeiMt",
        "outputId": "a9466edf-3cf9-49d2-d28c-eb3b9302b060"
      },
      "outputs": [
        {
          "name": "stdout",
          "output_type": "stream",
          "text": [
            "True\n"
          ]
        }
      ],
      "source": [
        "print(a < b)"
      ]
    },
    {
      "cell_type": "markdown",
      "metadata": {
        "id": "oPw_hEWJYjGH"
      },
      "source": [
        "#### Equal to"
      ]
    },
    {
      "cell_type": "code",
      "execution_count": 55,
      "metadata": {
        "colab": {
          "base_uri": "https://localhost:8080/"
        },
        "id": "bSbFYirIex3W",
        "outputId": "bab69101-41ba-4f9e-f854-295ff6a59f0e"
      },
      "outputs": [
        {
          "name": "stdout",
          "output_type": "stream",
          "text": [
            "False\n"
          ]
        }
      ],
      "source": [
        "print(a == b)"
      ]
    },
    {
      "cell_type": "markdown",
      "metadata": {
        "id": "hv_Kidk5ZZjO"
      },
      "source": [
        "#### Not equal to"
      ]
    },
    {
      "cell_type": "code",
      "execution_count": 56,
      "metadata": {
        "colab": {
          "base_uri": "https://localhost:8080/"
        },
        "id": "v8aSrG6Xe3rL",
        "outputId": "1e8d0f8d-5fda-4f29-b0ea-fad3c412428e"
      },
      "outputs": [
        {
          "name": "stdout",
          "output_type": "stream",
          "text": [
            "True\n"
          ]
        }
      ],
      "source": [
        "print(a != b)"
      ]
    },
    {
      "cell_type": "markdown",
      "metadata": {
        "id": "-WOWraC8ZfzV"
      },
      "source": [
        "#### Greater than or equal to"
      ]
    },
    {
      "cell_type": "code",
      "execution_count": 57,
      "metadata": {
        "colab": {
          "base_uri": "https://localhost:8080/"
        },
        "id": "Z2Au6R7ue6g2",
        "outputId": "f9f54ca9-379a-48aa-dd80-32270b21f39f"
      },
      "outputs": [
        {
          "name": "stdout",
          "output_type": "stream",
          "text": [
            "False\n"
          ]
        }
      ],
      "source": [
        "print(a >= b)"
      ]
    },
    {
      "cell_type": "markdown",
      "metadata": {
        "id": "LXJGAuzeZ32i"
      },
      "source": [
        "#### Less than or equal to"
      ]
    },
    {
      "cell_type": "code",
      "execution_count": 58,
      "metadata": {
        "colab": {
          "base_uri": "https://localhost:8080/"
        },
        "id": "D47_LBlHe_T1",
        "outputId": "122f8ba4-77f4-47e3-a08d-0db91075897f"
      },
      "outputs": [
        {
          "name": "stdout",
          "output_type": "stream",
          "text": [
            "True\n"
          ]
        }
      ],
      "source": [
        "print(a <= b)"
      ]
    },
    {
      "cell_type": "markdown",
      "metadata": {
        "id": "dJHMHtUiaN_e"
      },
      "source": [
        "### Logical Operator"
      ]
    },
    {
      "cell_type": "code",
      "execution_count": 59,
      "metadata": {
        "id": "htK7nBbzfIDd"
      },
      "outputs": [],
      "source": [
        "a = True\n",
        "b = False"
      ]
    },
    {
      "cell_type": "markdown",
      "metadata": {
        "id": "9wNe2xNwa3fN"
      },
      "source": [
        "#### Logical AND"
      ]
    },
    {
      "cell_type": "code",
      "execution_count": 60,
      "metadata": {
        "colab": {
          "base_uri": "https://localhost:8080/"
        },
        "id": "_k-ISXzlfLDF",
        "outputId": "fb5c7cd4-a8d9-4720-8acf-e058708ab0d2"
      },
      "outputs": [
        {
          "name": "stdout",
          "output_type": "stream",
          "text": [
            "False\n"
          ]
        }
      ],
      "source": [
        "print(a and b)"
      ]
    },
    {
      "cell_type": "markdown",
      "metadata": {
        "id": "lKBkkohwa7Il"
      },
      "source": [
        "#### Logical OR"
      ]
    },
    {
      "cell_type": "code",
      "execution_count": 61,
      "metadata": {
        "colab": {
          "base_uri": "https://localhost:8080/"
        },
        "id": "5pGD2ytxfSZ1",
        "outputId": "f4522836-8c57-45a4-d947-3eb092aa299d"
      },
      "outputs": [
        {
          "name": "stdout",
          "output_type": "stream",
          "text": [
            "True\n"
          ]
        }
      ],
      "source": [
        "print(a or b or b or b or b)"
      ]
    },
    {
      "cell_type": "markdown",
      "metadata": {
        "id": "yUKDNlARffP9"
      },
      "source": [
        "#### Logical NOT"
      ]
    },
    {
      "cell_type": "code",
      "execution_count": 62,
      "metadata": {
        "colab": {
          "base_uri": "https://localhost:8080/"
        },
        "id": "ZIknq-dxfUkW",
        "outputId": "c5fd42cc-05fd-4e21-abfb-319d71ed53d9"
      },
      "outputs": [
        {
          "name": "stdout",
          "output_type": "stream",
          "text": [
            "False\n"
          ]
        }
      ],
      "source": [
        "print(not a)"
      ]
    },
    {
      "cell_type": "code",
      "execution_count": 63,
      "metadata": {
        "colab": {
          "base_uri": "https://localhost:8080/"
        },
        "id": "_BYp0rS0fsh2",
        "outputId": "f56593c9-b285-4918-b6b9-8633eb161c2e"
      },
      "outputs": [
        {
          "name": "stdout",
          "output_type": "stream",
          "text": [
            "True\n"
          ]
        }
      ],
      "source": [
        "print(not b)"
      ]
    },
    {
      "cell_type": "code",
      "execution_count": 64,
      "metadata": {
        "colab": {
          "base_uri": "https://localhost:8080/"
        },
        "id": "kH78qZXEgRs8",
        "outputId": "a2f17de3-141c-4dbf-b048-28ee6aa1c586"
      },
      "outputs": [
        {
          "name": "stdout",
          "output_type": "stream",
          "text": [
            "True\n"
          ]
        }
      ],
      "source": [
        "print(not b and a)"
      ]
    },
    {
      "cell_type": "markdown",
      "metadata": {
        "id": "e8am_EJ-ftoV"
      },
      "source": [
        "### Assignment Operator"
      ]
    },
    {
      "cell_type": "markdown",
      "metadata": {
        "id": "DJhLpVdXgDge"
      },
      "source": [
        "#### Assign"
      ]
    },
    {
      "cell_type": "code",
      "execution_count": 65,
      "metadata": {
        "id": "RRNeM_P4f21m"
      },
      "outputs": [],
      "source": [
        "a = 13"
      ]
    },
    {
      "cell_type": "markdown",
      "metadata": {
        "id": "PYPmyJC3gafW"
      },
      "source": [
        "#### Add AND"
      ]
    },
    {
      "cell_type": "code",
      "execution_count": 66,
      "metadata": {
        "colab": {
          "base_uri": "https://localhost:8080/"
        },
        "id": "qJc6lxh3ge7W",
        "outputId": "09187b5b-8459-4ff6-e3e2-0ac5c5a45a12"
      },
      "outputs": [
        {
          "name": "stdout",
          "output_type": "stream",
          "text": [
            "23\n"
          ]
        }
      ],
      "source": [
        "a += 10\n",
        "print(a)"
      ]
    },
    {
      "cell_type": "markdown",
      "metadata": {
        "id": "Vs7a04p3gupm"
      },
      "source": [
        "#### Subract AND"
      ]
    },
    {
      "cell_type": "code",
      "execution_count": 67,
      "metadata": {
        "colab": {
          "base_uri": "https://localhost:8080/"
        },
        "id": "lGr0kIrZgr6m",
        "outputId": "c3146ce3-5e3d-4221-9989-d2cf860cbd00"
      },
      "outputs": [
        {
          "name": "stdout",
          "output_type": "stream",
          "text": [
            "19\n"
          ]
        }
      ],
      "source": [
        "a -= 4\n",
        "print(a)"
      ]
    },
    {
      "cell_type": "markdown",
      "metadata": {
        "id": "WazLpmGKg1UW"
      },
      "source": [
        "#### Multiply AND"
      ]
    },
    {
      "cell_type": "code",
      "execution_count": 68,
      "metadata": {
        "colab": {
          "base_uri": "https://localhost:8080/"
        },
        "id": "G2c0lvZog0HX",
        "outputId": "dc0d4d25-9528-4401-e108-8c0440f40baf"
      },
      "outputs": [
        {
          "name": "stdout",
          "output_type": "stream",
          "text": [
            "38\n"
          ]
        }
      ],
      "source": [
        "a *= 2\n",
        "print(a)"
      ]
    },
    {
      "cell_type": "markdown",
      "metadata": {
        "id": "yJy_Wgceg-DP"
      },
      "source": [
        "#### Divide AND"
      ]
    },
    {
      "cell_type": "code",
      "execution_count": 69,
      "metadata": {
        "colab": {
          "base_uri": "https://localhost:8080/"
        },
        "id": "eMBvf6wRhGed",
        "outputId": "71e93be9-b0e4-4214-94a5-56bdb06aa0e3"
      },
      "outputs": [
        {
          "name": "stdout",
          "output_type": "stream",
          "text": [
            "5.428571428571429\n"
          ]
        }
      ],
      "source": [
        "a /= 7\n",
        "print(a)"
      ]
    },
    {
      "cell_type": "markdown",
      "metadata": {
        "id": "6Oy_1UhSiOiO"
      },
      "source": [
        "#### Modulus AND"
      ]
    },
    {
      "cell_type": "code",
      "execution_count": 70,
      "metadata": {
        "colab": {
          "base_uri": "https://localhost:8080/"
        },
        "id": "_RTrQo-YhJTX",
        "outputId": "76b803ac-fb61-4ceb-c019-4a93cdf7c919"
      },
      "outputs": [
        {
          "name": "stdout",
          "output_type": "stream",
          "text": [
            "5\n"
          ]
        }
      ],
      "source": [
        "a = int(a)\n",
        "a %= 6\n",
        "print(a)"
      ]
    },
    {
      "cell_type": "markdown",
      "metadata": {
        "id": "Hl2EL9M6iSn-"
      },
      "source": [
        "#### Divide(floor) AND"
      ]
    },
    {
      "cell_type": "code",
      "execution_count": 71,
      "metadata": {
        "colab": {
          "base_uri": "https://localhost:8080/"
        },
        "id": "SAIB-k8Ci96u",
        "outputId": "0a3ece59-c22a-49fc-fb73-d673ef1b6e89"
      },
      "outputs": [
        {
          "name": "stdout",
          "output_type": "stream",
          "text": [
            "1\n"
          ]
        }
      ],
      "source": [
        "a //= 3\n",
        "print(a)"
      ]
    },
    {
      "cell_type": "markdown",
      "metadata": {
        "id": "lBuoo1eJiWVu"
      },
      "source": [
        "#### Divide(exponent AND)"
      ]
    },
    {
      "cell_type": "code",
      "execution_count": 72,
      "metadata": {
        "colab": {
          "base_uri": "https://localhost:8080/"
        },
        "id": "F3AMr--ajMkO",
        "outputId": "0af57693-1137-4d45-838a-9109bbfff1b7"
      },
      "outputs": [
        {
          "name": "stdout",
          "output_type": "stream",
          "text": [
            "1024\n"
          ]
        }
      ],
      "source": [
        "a += 1\n",
        "a **= 10\n",
        "print(a)"
      ]
    },
    {
      "cell_type": "markdown",
      "metadata": {
        "id": "-HE-dSqpibwd"
      },
      "source": [
        "### Identity Operator"
      ]
    },
    {
      "cell_type": "code",
      "execution_count": 73,
      "metadata": {
        "id": "15pJX0VokEn_"
      },
      "outputs": [],
      "source": [
        "a = 3\n",
        "b = 3\n",
        "c = \"Python\"\n",
        "d = \"python\""
      ]
    },
    {
      "cell_type": "markdown",
      "metadata": {
        "id": "soLzo2dHjuG_"
      },
      "source": [
        "#### IS"
      ]
    },
    {
      "cell_type": "code",
      "execution_count": 74,
      "metadata": {
        "colab": {
          "base_uri": "https://localhost:8080/"
        },
        "id": "ZSco47QvkMHW",
        "outputId": "02ba7f46-8076-4868-a67a-fcb22a16cce2"
      },
      "outputs": [
        {
          "data": {
            "text/plain": [
              "True"
            ]
          },
          "execution_count": 74,
          "metadata": {},
          "output_type": "execute_result"
        }
      ],
      "source": [
        "a is b"
      ]
    },
    {
      "cell_type": "code",
      "execution_count": 75,
      "metadata": {
        "colab": {
          "base_uri": "https://localhost:8080/"
        },
        "id": "4QAU8W6RkN_G",
        "outputId": "7de20a41-9d50-476c-e2db-0738df2775df"
      },
      "outputs": [
        {
          "data": {
            "text/plain": [
              "False"
            ]
          },
          "execution_count": 75,
          "metadata": {},
          "output_type": "execute_result"
        }
      ],
      "source": [
        "c is d"
      ]
    },
    {
      "cell_type": "markdown",
      "metadata": {
        "id": "HQLf7nXejxH-"
      },
      "source": [
        "#### IS NOT"
      ]
    },
    {
      "cell_type": "code",
      "execution_count": 76,
      "metadata": {
        "colab": {
          "base_uri": "https://localhost:8080/"
        },
        "id": "TChDYNd9kRlf",
        "outputId": "682d4f18-0a1f-417a-cb05-d668b3bcbf23"
      },
      "outputs": [
        {
          "data": {
            "text/plain": [
              "False"
            ]
          },
          "execution_count": 76,
          "metadata": {},
          "output_type": "execute_result"
        }
      ],
      "source": [
        "a is not b"
      ]
    },
    {
      "cell_type": "code",
      "execution_count": 77,
      "metadata": {
        "colab": {
          "base_uri": "https://localhost:8080/"
        },
        "id": "nXA8JrgjkT1g",
        "outputId": "984d5307-cc59-4a53-bac5-600bf0ca78f4"
      },
      "outputs": [
        {
          "data": {
            "text/plain": [
              "True"
            ]
          },
          "execution_count": 77,
          "metadata": {},
          "output_type": "execute_result"
        }
      ],
      "source": [
        "c is not b"
      ]
    },
    {
      "cell_type": "markdown",
      "metadata": {
        "id": "IeXNm72OkYJW"
      },
      "source": [
        "### Membership Operator"
      ]
    },
    {
      "cell_type": "markdown",
      "metadata": {
        "id": "kStuSx12kvAu"
      },
      "source": [
        "#### IN"
      ]
    },
    {
      "cell_type": "code",
      "execution_count": 78,
      "metadata": {
        "colab": {
          "base_uri": "https://localhost:8080/"
        },
        "id": "AM8oewivmOhG",
        "outputId": "9db3c62a-879b-4430-ee21-893297c91671"
      },
      "outputs": [
        {
          "data": {
            "text/plain": [
              "True"
            ]
          },
          "execution_count": 78,
          "metadata": {},
          "output_type": "execute_result"
        }
      ],
      "source": [
        "'p' in 'fodajsijaskp'"
      ]
    },
    {
      "cell_type": "code",
      "execution_count": 79,
      "metadata": {
        "colab": {
          "base_uri": "https://localhost:8080/"
        },
        "id": "Hcm4ymiHnnFm",
        "outputId": "cfdbd93e-3c67-49be-adf5-701960c36974"
      },
      "outputs": [
        {
          "data": {
            "text/plain": [
              "False"
            ]
          },
          "execution_count": 79,
          "metadata": {},
          "output_type": "execute_result"
        }
      ],
      "source": [
        "'p' in 'fodajsijask'"
      ]
    },
    {
      "cell_type": "markdown",
      "metadata": {
        "id": "J09t44X6ky3H"
      },
      "source": [
        "#### NOT IN"
      ]
    },
    {
      "cell_type": "code",
      "execution_count": 80,
      "metadata": {
        "colab": {
          "base_uri": "https://localhost:8080/"
        },
        "id": "Lse53qKdnpit",
        "outputId": "99e5cd5e-9433-4473-ca3a-e94db8ba10e6"
      },
      "outputs": [
        {
          "data": {
            "text/plain": [
              "False"
            ]
          },
          "execution_count": 80,
          "metadata": {},
          "output_type": "execute_result"
        }
      ],
      "source": [
        "'so' not in 'soooooooo'"
      ]
    },
    {
      "cell_type": "code",
      "execution_count": 81,
      "metadata": {
        "colab": {
          "base_uri": "https://localhost:8080/"
        },
        "id": "3lKPSvzUnsve",
        "outputId": "9cb1980e-d797-45cd-df1b-883bfc65bd0e"
      },
      "outputs": [
        {
          "data": {
            "text/plain": [
              "True"
            ]
          },
          "execution_count": 81,
          "metadata": {},
          "output_type": "execute_result"
        }
      ],
      "source": [
        "'Py' not in 'pyssp'"
      ]
    },
    {
      "cell_type": "markdown",
      "metadata": {
        "id": "kkieB2OLTCuy"
      },
      "source": [
        "### Bitwise"
      ]
    },
    {
      "cell_type": "markdown",
      "metadata": {
        "id": "tiqk2duQTOax"
      },
      "source": [
        "Bitwise AND:\n",
        "      0 & 0 => 0,\n",
        "      1 & 0 => 0,\n",
        "      0 & 1 => 0,\n",
        "      1 & 1 => 1"
      ]
    },
    {
      "cell_type": "code",
      "execution_count": 82,
      "metadata": {
        "colab": {
          "base_uri": "https://localhost:8080/"
        },
        "id": "dlw6D0MAZu0L",
        "outputId": "830c3b18-35e3-462e-8cc9-15e3fc742e0b"
      },
      "outputs": [
        {
          "name": "stdout",
          "output_type": "stream",
          "text": [
            "1\n"
          ]
        }
      ],
      "source": [
        "print(17 & 13)"
      ]
    },
    {
      "cell_type": "markdown",
      "metadata": {
        "id": "FOECwdRtZW37"
      },
      "source": [
        "Bitwise OR:\n",
        "      0 | 0 => 0,\n",
        "      1 | 0 => 1,\n",
        "      0 | 1 => 1,\n",
        "      1 | 1 => 1"
      ]
    },
    {
      "cell_type": "code",
      "execution_count": 83,
      "metadata": {
        "colab": {
          "base_uri": "https://localhost:8080/"
        },
        "id": "J5XSAnNSZ2GK",
        "outputId": "e055426a-4205-44e4-b0ee-0f6d4cc10c45"
      },
      "outputs": [
        {
          "name": "stdout",
          "output_type": "stream",
          "text": [
            "15\n"
          ]
        }
      ],
      "source": [
        "print(15 | 7)"
      ]
    },
    {
      "cell_type": "markdown",
      "metadata": {
        "id": "kXb0i18FZZYr"
      },
      "source": [
        "Bitwise XOR:\n",
        "      0 ^ 0 => 0,\n",
        "      1 ^ 0 => 1,\n",
        "      0 ^ 1 => 1,\n",
        "      1 ^ 1 => 0"
      ]
    },
    {
      "cell_type": "code",
      "execution_count": 84,
      "metadata": {
        "colab": {
          "base_uri": "https://localhost:8080/"
        },
        "id": "TcAP8KAFbaVk",
        "outputId": "cd0f23d2-6fd0-44dc-a113-9dab58200299"
      },
      "outputs": [
        {
          "name": "stdout",
          "output_type": "stream",
          "text": [
            "8\n"
          ]
        }
      ],
      "source": [
        "print(15 ^ 7)"
      ]
    },
    {
      "cell_type": "markdown",
      "metadata": {
        "id": "6OIvkfZzZdDi"
      },
      "source": [
        "Bitwise Leftshift:\n",
        "      2 << 4 => 32,\n",
        "      1 << 5 => 32"
      ]
    },
    {
      "cell_type": "code",
      "execution_count": 85,
      "metadata": {
        "colab": {
          "base_uri": "https://localhost:8080/"
        },
        "id": "52aE63abbefy",
        "outputId": "e8f7c0de-6ce7-4613-9b29-fc1cdaf5b9f3"
      },
      "outputs": [
        {
          "data": {
            "text/plain": [
              "16"
            ]
          },
          "execution_count": 85,
          "metadata": {},
          "output_type": "execute_result"
        }
      ],
      "source": [
        "2 << 3"
      ]
    },
    {
      "cell_type": "markdown",
      "metadata": {
        "id": "_Ia_PAotZeKy"
      },
      "source": [
        "Bitwise Rightshift:\n",
        "      13 >> 2 => 1101"
      ]
    },
    {
      "cell_type": "code",
      "execution_count": 86,
      "metadata": {
        "colab": {
          "base_uri": "https://localhost:8080/"
        },
        "id": "WHXJvyRQbh0a",
        "outputId": "a4d1813f-9f96-4815-a589-8248b5385ff0"
      },
      "outputs": [
        {
          "data": {
            "text/plain": [
              "8"
            ]
          },
          "execution_count": 86,
          "metadata": {},
          "output_type": "execute_result"
        }
      ],
      "source": [
        "128 >> 4"
      ]
    },
    {
      "cell_type": "markdown",
      "metadata": {
        "id": "_b7jionele1k"
      },
      "source": [
        "## list() constructor"
      ]
    },
    {
      "cell_type": "code",
      "execution_count": 87,
      "metadata": {
        "colab": {
          "base_uri": "https://localhost:8080/"
        },
        "id": "diEvC7dLloLz",
        "outputId": "ac7b4610-75bd-44fc-84a5-bd4abecd02bb"
      },
      "outputs": [
        {
          "name": "stdout",
          "output_type": "stream",
          "text": [
            "[1, 2, 3, 4, 5, 6, 7, 8, 9]\n"
          ]
        }
      ],
      "source": [
        "numbers = list(map(int, input(\"Enter the numbers:\").split()))\n",
        "print(numbers)"
      ]
    },
    {
      "cell_type": "markdown",
      "metadata": {
        "id": "n948Q7JHmNdD"
      },
      "source": [
        "## Tuples\n",
        "\n",
        "Нэг үүссэн бол доторх элементүүдийг өөрчилж болохгүй, дараалласан бүтэцтэй."
      ]
    },
    {
      "cell_type": "markdown",
      "metadata": {
        "id": "1BSMC_e2mm1j"
      },
      "source": [
        "### Create a Tuple"
      ]
    },
    {
      "cell_type": "code",
      "execution_count": 88,
      "metadata": {
        "colab": {
          "base_uri": "https://localhost:8080/"
        },
        "id": "plsWRR8wm-ar",
        "outputId": "e6ee3ec3-9ad4-4488-a979-493aab69a919"
      },
      "outputs": [
        {
          "name": "stdout",
          "output_type": "stream",
          "text": [
            "('iphone', 'samsung', 'huawei', 'nokia')\n"
          ]
        }
      ],
      "source": [
        "my_tuples = (\"iphone\", \"samsung\", \"huawei\", \"nokia\")\n",
        "print(my_tuples)"
      ]
    },
    {
      "cell_type": "markdown",
      "metadata": {
        "id": "GNGrMT8Bmp6b"
      },
      "source": [
        "### Access Tuple Items"
      ]
    },
    {
      "cell_type": "code",
      "execution_count": 89,
      "metadata": {
        "colab": {
          "base_uri": "https://localhost:8080/"
        },
        "id": "B78lpBYynM5q",
        "outputId": "5c6dfe7e-871e-4da8-b544-eabc69606185"
      },
      "outputs": [
        {
          "name": "stdout",
          "output_type": "stream",
          "text": [
            "samsung\n"
          ]
        }
      ],
      "source": [
        "print(my_tuples[1])"
      ]
    },
    {
      "cell_type": "markdown",
      "metadata": {
        "id": "J7dc1ml_mthb"
      },
      "source": [
        "### Change Tuple Values"
      ]
    },
    {
      "cell_type": "code",
      "execution_count": 91,
      "metadata": {
        "colab": {
          "base_uri": "https://localhost:8080/",
          "height": 165
        },
        "id": "OeWeIBRHnhAk",
        "outputId": "8ad8eef7-b821-4d27-d2cc-99bac6cb3f27"
      },
      "outputs": [
        {
          "ename": "TypeError",
          "evalue": "'tuple' object does not support item assignment",
          "output_type": "error",
          "traceback": [
            "\u001b[1;31m---------------------------------------------------------------------------\u001b[0m",
            "\u001b[1;31mTypeError\u001b[0m                                 Traceback (most recent call last)",
            "Cell \u001b[1;32mIn[91], line 1\u001b[0m\n\u001b[1;32m----> 1\u001b[0m my_tuples[\u001b[39m1\u001b[39;49m] \u001b[39m=\u001b[39m \u001b[39m'\u001b[39m\u001b[39msmsng\u001b[39m\u001b[39m'\u001b[39m\n",
            "\u001b[1;31mTypeError\u001b[0m: 'tuple' object does not support item assignment"
          ]
        }
      ],
      "source": [
        "my_tuples[1] = 'smsng'"
      ]
    },
    {
      "cell_type": "markdown",
      "metadata": {
        "id": "Ko_bbARzmzPS"
      },
      "source": [
        "### Loop through a tuple"
      ]
    },
    {
      "cell_type": "code",
      "execution_count": null,
      "metadata": {
        "colab": {
          "base_uri": "https://localhost:8080/"
        },
        "id": "Ro3L7uBlnyhb",
        "outputId": "3e643eea-9a1c-42bb-d79b-7abbbc0f3b01"
      },
      "outputs": [
        {
          "name": "stdout",
          "output_type": "stream",
          "text": [
            "iphone\n",
            "samsung\n",
            "huawei\n",
            "nokia\n"
          ]
        }
      ],
      "source": [
        "for x in my_tuples:\n",
        "  print(x)"
      ]
    },
    {
      "cell_type": "markdown",
      "metadata": {
        "id": "Bv8qDxouoFgD"
      },
      "source": [
        "### Membership operator"
      ]
    },
    {
      "cell_type": "code",
      "execution_count": null,
      "metadata": {
        "colab": {
          "base_uri": "https://localhost:8080/"
        },
        "id": "DOfjADepn6Tb",
        "outputId": "b65216fc-a1aa-4145-bf00-70904deaae4b"
      },
      "outputs": [
        {
          "name": "stdout",
          "output_type": "stream",
          "text": [
            "Yes, huawei in your tuple\n"
          ]
        }
      ],
      "source": [
        "if 'huawei' in my_tuples:\n",
        "  print(\"Yes, huawei in your tuple\")\n",
        "else:\n",
        "  print(\"Nothing\")"
      ]
    },
    {
      "cell_type": "markdown",
      "metadata": {
        "id": "Rh79PWq7oL4D"
      },
      "source": [
        "### Length"
      ]
    },
    {
      "cell_type": "code",
      "execution_count": null,
      "metadata": {
        "colab": {
          "base_uri": "https://localhost:8080/"
        },
        "id": "ZjvJ9mIOo_9b",
        "outputId": "12ab1789-b78f-4f11-f1ab-579d64cbdf24"
      },
      "outputs": [
        {
          "data": {
            "text/plain": [
              "4"
            ]
          },
          "execution_count": 16,
          "metadata": {},
          "output_type": "execute_result"
        }
      ],
      "source": [
        "len(my_tuples)"
      ]
    },
    {
      "cell_type": "markdown",
      "metadata": {
        "id": "6oUDeO2EoN7T"
      },
      "source": [
        "### Add Items"
      ]
    },
    {
      "cell_type": "code",
      "execution_count": null,
      "metadata": {
        "colab": {
          "base_uri": "https://localhost:8080/",
          "height": 165
        },
        "id": "qiEd1y35pYTb",
        "outputId": "fc1fc0c1-15e2-4196-fa24-dfd8081af3f9"
      },
      "outputs": [
        {
          "ename": "TypeError",
          "evalue": "ignored",
          "output_type": "error",
          "traceback": [
            "\u001b[0;31m---------------------------------------------------------------------------\u001b[0m",
            "\u001b[0;31mTypeError\u001b[0m                                 Traceback (most recent call last)",
            "\u001b[0;32m<ipython-input-17-069794d4043e>\u001b[0m in \u001b[0;36m<cell line: 1>\u001b[0;34m()\u001b[0m\n\u001b[0;32m----> 1\u001b[0;31m \u001b[0mmy_tuples\u001b[0m\u001b[0;34m[\u001b[0m\u001b[0;36m4\u001b[0m\u001b[0;34m]\u001b[0m \u001b[0;34m=\u001b[0m \u001b[0;34m'ip'\u001b[0m\u001b[0;34m\u001b[0m\u001b[0;34m\u001b[0m\u001b[0m\n\u001b[0m",
            "\u001b[0;31mTypeError\u001b[0m: 'tuple' object does not support item assignment"
          ]
        }
      ],
      "source": [
        "my_tuples[4] = 'ip'"
      ]
    },
    {
      "cell_type": "code",
      "execution_count": null,
      "metadata": {
        "colab": {
          "base_uri": "https://localhost:8080/",
          "height": 165
        },
        "id": "JKBMAzqqsOXO",
        "outputId": "dc896a1f-6009-4bff-e636-8d6f043298d1"
      },
      "outputs": [
        {
          "ename": "AttributeError",
          "evalue": "ignored",
          "output_type": "error",
          "traceback": [
            "\u001b[0;31m---------------------------------------------------------------------------\u001b[0m",
            "\u001b[0;31mAttributeError\u001b[0m                            Traceback (most recent call last)",
            "\u001b[0;32m<ipython-input-19-85d8007291bb>\u001b[0m in \u001b[0;36m<cell line: 1>\u001b[0;34m()\u001b[0m\n\u001b[0;32m----> 1\u001b[0;31m \u001b[0mmy_tuples\u001b[0m\u001b[0;34m.\u001b[0m\u001b[0minsert\u001b[0m\u001b[0;34m(\u001b[0m\u001b[0;34m\"ip\"\u001b[0m\u001b[0;34m)\u001b[0m\u001b[0;34m\u001b[0m\u001b[0;34m\u001b[0m\u001b[0m\n\u001b[0m",
            "\u001b[0;31mAttributeError\u001b[0m: 'tuple' object has no attribute 'insert'"
          ]
        }
      ],
      "source": [
        "my_tuples.insert(\"ip\")"
      ]
    },
    {
      "cell_type": "markdown",
      "metadata": {
        "id": "4hwXpmBrpS8T"
      },
      "source": [
        "### Remove Items"
      ]
    },
    {
      "cell_type": "code",
      "execution_count": null,
      "metadata": {
        "colab": {
          "base_uri": "https://localhost:8080/",
          "height": 217
        },
        "id": "v0NfX1YxsZhD",
        "outputId": "7496b4f2-bba4-4dda-d8af-e1a42fcd970c"
      },
      "outputs": [
        {
          "name": "stdout",
          "output_type": "stream",
          "text": [
            "('iphone', 'samsung', 'huawei', 'nokia')\n"
          ]
        },
        {
          "ename": "NameError",
          "evalue": "ignored",
          "output_type": "error",
          "traceback": [
            "\u001b[0;31m---------------------------------------------------------------------------\u001b[0m",
            "\u001b[0;31mNameError\u001b[0m                                 Traceback (most recent call last)",
            "\u001b[0;32m<ipython-input-20-c5129f6a23c1>\u001b[0m in \u001b[0;36m<cell line: 3>\u001b[0;34m()\u001b[0m\n\u001b[1;32m      1\u001b[0m \u001b[0mprint\u001b[0m\u001b[0;34m(\u001b[0m\u001b[0mmy_tuples\u001b[0m\u001b[0;34m)\u001b[0m\u001b[0;34m\u001b[0m\u001b[0;34m\u001b[0m\u001b[0m\n\u001b[1;32m      2\u001b[0m \u001b[0;32mdel\u001b[0m \u001b[0mmy_tuples\u001b[0m\u001b[0;34m\u001b[0m\u001b[0;34m\u001b[0m\u001b[0m\n\u001b[0;32m----> 3\u001b[0;31m \u001b[0mprint\u001b[0m\u001b[0;34m(\u001b[0m\u001b[0mmy_tuples\u001b[0m\u001b[0;34m)\u001b[0m\u001b[0;34m\u001b[0m\u001b[0;34m\u001b[0m\u001b[0m\n\u001b[0m",
            "\u001b[0;31mNameError\u001b[0m: name 'my_tuples' is not defined"
          ]
        }
      ],
      "source": [
        "print(my_tuples)\n",
        "del my_tuples\n",
        "print(my_tuples)"
      ]
    },
    {
      "cell_type": "markdown",
      "metadata": {
        "id": "1pTziZcwpVYD"
      },
      "source": [
        "### Constructor"
      ]
    },
    {
      "cell_type": "code",
      "execution_count": null,
      "metadata": {
        "colab": {
          "base_uri": "https://localhost:8080/"
        },
        "id": "S6hnHN5csnJU",
        "outputId": "f5fccf2b-759c-453d-a2ad-98c338c88866"
      },
      "outputs": [
        {
          "name": "stdout",
          "output_type": "stream",
          "text": [
            "('cat', 'dog', 'mouse', 'lion')\n"
          ]
        }
      ],
      "source": [
        "animals = tuple((\"cat\", \"dog\", \"mouse\", \"lion\"))\n",
        "print(animals)"
      ]
    },
    {
      "cell_type": "code",
      "execution_count": null,
      "metadata": {
        "colab": {
          "base_uri": "https://localhost:8080/"
        },
        "id": "FTStS4TpsyEM",
        "outputId": "69c52f63-f132-4a01-8b9a-2e96f70398ed"
      },
      "outputs": [
        {
          "data": {
            "text/plain": [
              "tuple"
            ]
          },
          "execution_count": 22,
          "metadata": {},
          "output_type": "execute_result"
        }
      ],
      "source": [
        "type(animals)"
      ]
    },
    {
      "cell_type": "markdown",
      "metadata": {
        "id": "R98-jdZXtGwM"
      },
      "source": [
        "## Dictionary\n",
        "\n",
        "Энэ төрлийн элементийн цуглуулга нь дараалалгүй, өөрчилж болохуйц, индекслэгдсэн байдаг."
      ]
    },
    {
      "cell_type": "markdown",
      "metadata": {
        "id": "DU_5HQnbts7t"
      },
      "source": [
        "### Create a dictionary"
      ]
    },
    {
      "cell_type": "code",
      "execution_count": null,
      "metadata": {
        "colab": {
          "base_uri": "https://localhost:8080/"
        },
        "id": "svzSc2p3uXB8",
        "outputId": "0a93ac76-3812-48a0-a8dd-d8649eb68972"
      },
      "outputs": [
        {
          "name": "stdout",
          "output_type": "stream",
          "text": [
            "{'1': 'Monday', '2': 'Tuesday', '3': 'Wednesday', '4': 'Thursday', '5': 'Friday', '6': 'Saturday', '7': 'Sunday'}\n"
          ]
        }
      ],
      "source": [
        "weeks = {\n",
        "    \"1\" : \"Monday\",\n",
        "    \"2\" : \"Tuesday\",\n",
        "    \"3\" : \"Wednesday\",\n",
        "    \"4\" : \"Thursday\",\n",
        "    \"5\" : \"Friday\",\n",
        "    \"6\" : \"Saturday\",\n",
        "    \"7\" : \"Sunday\",\n",
        "}\n",
        "print(weeks)"
      ]
    },
    {
      "cell_type": "markdown",
      "metadata": {
        "id": "ZLSqG3outxrr"
      },
      "source": [
        "### Accessing Items"
      ]
    },
    {
      "cell_type": "markdown",
      "metadata": {
        "id": "E7uIJzEkt1rc"
      },
      "source": [
        "#### key"
      ]
    },
    {
      "cell_type": "code",
      "execution_count": null,
      "metadata": {
        "colab": {
          "base_uri": "https://localhost:8080/"
        },
        "id": "lZGZ72WavAyM",
        "outputId": "b3d3f5f7-7c6a-4082-a88a-dbb4d1e11610"
      },
      "outputs": [
        {
          "name": "stdout",
          "output_type": "stream",
          "text": [
            "Monday\n"
          ]
        }
      ],
      "source": [
        "print(weeks['1'])"
      ]
    },
    {
      "cell_type": "code",
      "execution_count": null,
      "metadata": {
        "colab": {
          "base_uri": "https://localhost:8080/"
        },
        "id": "LA8XHA14vODt",
        "outputId": "b02eb905-ba5a-44e1-fe54-3dba7efba0b6"
      },
      "outputs": [
        {
          "name": "stdout",
          "output_type": "stream",
          "text": [
            "Wednesday\n"
          ]
        }
      ],
      "source": [
        "print(weeks['3'])"
      ]
    },
    {
      "cell_type": "markdown",
      "metadata": {
        "id": "ueCNyh_at4S8"
      },
      "source": [
        "#### get()"
      ]
    },
    {
      "cell_type": "code",
      "execution_count": null,
      "metadata": {
        "colab": {
          "base_uri": "https://localhost:8080/"
        },
        "id": "dfUzNxitvBTr",
        "outputId": "e984843d-2578-4317-dfe7-7b6062c1448b"
      },
      "outputs": [
        {
          "name": "stdout",
          "output_type": "stream",
          "text": [
            "7 days consists of only 7 days\n"
          ]
        }
      ],
      "source": [
        "print(weeks.get(\"10\",\"7 days consists of only 7 days\"))"
      ]
    },
    {
      "cell_type": "markdown",
      "metadata": {
        "id": "knjuzFFUyzFk"
      },
      "source": [
        "### Change value"
      ]
    },
    {
      "cell_type": "code",
      "execution_count": null,
      "metadata": {
        "colab": {
          "base_uri": "https://localhost:8080/"
        },
        "id": "_FQIJY-_wG8M",
        "outputId": "50461860-fa96-402d-e8bb-30d254148e6b"
      },
      "outputs": [
        {
          "name": "stdout",
          "output_type": "stream",
          "text": [
            "{'1': 'Mon', '2': 'Tuesday', '3': 'Wednesday', '4': 'Thursday', '5': 'Friday', '6': 'Saturday', '7': 'Sunday'}\n"
          ]
        }
      ],
      "source": [
        "weeks['1'] = \"Mon\"\n",
        "print(weeks)"
      ]
    },
    {
      "cell_type": "markdown",
      "metadata": {
        "id": "4Nta3MNrzZYU"
      },
      "source": [
        "### Loop through a dictionary"
      ]
    },
    {
      "cell_type": "markdown",
      "metadata": {
        "id": "gf1jiRByzsmU"
      },
      "source": [
        "#### key"
      ]
    },
    {
      "cell_type": "code",
      "execution_count": null,
      "metadata": {
        "colab": {
          "base_uri": "https://localhost:8080/"
        },
        "id": "hJjQNAx4zReb",
        "outputId": "e59a38c9-65a9-4921-f6a4-deaa31ba08d7"
      },
      "outputs": [
        {
          "name": "stdout",
          "output_type": "stream",
          "text": [
            "1\n",
            "2\n",
            "3\n",
            "4\n",
            "5\n",
            "6\n",
            "7\n"
          ]
        }
      ],
      "source": [
        "for x in weeks:\n",
        "  print(x)"
      ]
    },
    {
      "cell_type": "code",
      "execution_count": null,
      "metadata": {
        "colab": {
          "base_uri": "https://localhost:8080/"
        },
        "id": "uGfLrrkv0E7c",
        "outputId": "2bdddc81-e698-4114-9e8c-24381cd17c34"
      },
      "outputs": [
        {
          "name": "stdout",
          "output_type": "stream",
          "text": [
            "1\n",
            "2\n",
            "3\n",
            "4\n",
            "5\n",
            "6\n",
            "7\n"
          ]
        }
      ],
      "source": [
        "for x in weeks.keys():\n",
        "  print(x)"
      ]
    },
    {
      "cell_type": "markdown",
      "metadata": {
        "id": "LaM3lDs3z4IU"
      },
      "source": [
        "#### value"
      ]
    },
    {
      "cell_type": "code",
      "execution_count": null,
      "metadata": {
        "colab": {
          "base_uri": "https://localhost:8080/"
        },
        "id": "6LTXWQtBz7f8",
        "outputId": "78049133-45de-45f2-e2f0-bb1c87b6dd82"
      },
      "outputs": [
        {
          "name": "stdout",
          "output_type": "stream",
          "text": [
            "Mon\n",
            "Tuesday\n",
            "Wednesday\n",
            "Thursday\n",
            "Friday\n",
            "Saturday\n",
            "Sunday\n"
          ]
        }
      ],
      "source": [
        "for x in weeks.values():\n",
        "  print(x)"
      ]
    },
    {
      "cell_type": "markdown",
      "metadata": {
        "id": "vow08g3Vz5pc"
      },
      "source": [
        "#### items"
      ]
    },
    {
      "cell_type": "code",
      "execution_count": null,
      "metadata": {
        "colab": {
          "base_uri": "https://localhost:8080/"
        },
        "id": "pOtE11dPz73c",
        "outputId": "ab7f7691-e8b3-41b2-bd2d-75e9a3b20eeb"
      },
      "outputs": [
        {
          "name": "stdout",
          "output_type": "stream",
          "text": [
            "('1', 'Mon')\n",
            "('2', 'Tuesday')\n",
            "('3', 'Wednesday')\n",
            "('4', 'Thursday')\n",
            "('5', 'Friday')\n",
            "('6', 'Saturday')\n",
            "('7', 'Sunday')\n"
          ]
        }
      ],
      "source": [
        "for d in weeks.items():\n",
        "  print(d)"
      ]
    },
    {
      "cell_type": "markdown",
      "metadata": {
        "id": "jDRnx9xH0f98"
      },
      "source": [
        "### Membership"
      ]
    },
    {
      "cell_type": "code",
      "execution_count": null,
      "metadata": {
        "colab": {
          "base_uri": "https://localhost:8080/"
        },
        "id": "DohUK18904s0",
        "outputId": "19cfac33-cb5c-43df-b8d8-f383ba483d0d"
      },
      "outputs": [
        {
          "name": "stdout",
          "output_type": "stream",
          "text": [
            "Yes\n"
          ]
        }
      ],
      "source": [
        "if '1' in weeks:\n",
        "  print(\"Yes\")"
      ]
    },
    {
      "cell_type": "code",
      "execution_count": null,
      "metadata": {
        "colab": {
          "base_uri": "https://localhost:8080/"
        },
        "id": "WGSCsAy_0-l0",
        "outputId": "112ef1fc-62e5-4553-c108-5fdeb20b701c"
      },
      "outputs": [
        {
          "name": "stdout",
          "output_type": "stream",
          "text": [
            "No\n"
          ]
        }
      ],
      "source": [
        "if 1 in weeks:\n",
        "  print(\"Yes\")\n",
        "else:\n",
        "  print(\"No\")"
      ]
    },
    {
      "cell_type": "markdown",
      "metadata": {
        "id": "X0VOjzFj0kbM"
      },
      "source": [
        "### Length"
      ]
    },
    {
      "cell_type": "code",
      "execution_count": null,
      "metadata": {
        "colab": {
          "base_uri": "https://localhost:8080/"
        },
        "id": "QrNjorRk1R0-",
        "outputId": "1e0f4c46-d4c0-4234-b25a-9a7863986444"
      },
      "outputs": [
        {
          "data": {
            "text/plain": [
              "7"
            ]
          },
          "execution_count": 40,
          "metadata": {},
          "output_type": "execute_result"
        }
      ],
      "source": [
        "len(weeks)"
      ]
    },
    {
      "cell_type": "markdown",
      "metadata": {
        "id": "F6lp2NSg0yCU"
      },
      "source": [
        "### Add items"
      ]
    },
    {
      "cell_type": "code",
      "execution_count": null,
      "metadata": {
        "colab": {
          "base_uri": "https://localhost:8080/"
        },
        "id": "p21n-aDj10lE",
        "outputId": "ef8db716-cf7a-4feb-acd0-3955fd562b36"
      },
      "outputs": [
        {
          "data": {
            "text/plain": [
              "{'1': 'Mon',\n",
              " '2': 'Tuesday',\n",
              " '3': 'Wednesday',\n",
              " '4': 'Thursday',\n",
              " '5': 'Friday',\n",
              " '6': 'Saturday',\n",
              " '7': 'Sunday',\n",
              " '8': 'strangeDay'}"
            ]
          },
          "execution_count": 42,
          "metadata": {},
          "output_type": "execute_result"
        }
      ],
      "source": [
        "weeks['8'] = \"strangeDay\"\n",
        "weeks"
      ]
    },
    {
      "cell_type": "markdown",
      "metadata": {
        "id": "-DFdJVia00N0"
      },
      "source": [
        "### Remove Items"
      ]
    },
    {
      "cell_type": "markdown",
      "metadata": {
        "id": "xTsFUp-41vGF"
      },
      "source": [
        "#### pop()"
      ]
    },
    {
      "cell_type": "code",
      "execution_count": null,
      "metadata": {
        "colab": {
          "base_uri": "https://localhost:8080/"
        },
        "id": "O4wIMjXy2IB9",
        "outputId": "8b8f0dea-a143-4855-a9f1-46f8bba65197"
      },
      "outputs": [
        {
          "name": "stdout",
          "output_type": "stream",
          "text": [
            "strangeDay\n"
          ]
        }
      ],
      "source": [
        "print(weeks.pop('8'))"
      ]
    },
    {
      "cell_type": "code",
      "execution_count": null,
      "metadata": {
        "colab": {
          "base_uri": "https://localhost:8080/"
        },
        "id": "IN1fi4H62RZk",
        "outputId": "2a56c2bd-6dad-4733-a907-74dfcb82aec3"
      },
      "outputs": [
        {
          "data": {
            "text/plain": [
              "{'1': 'Mon',\n",
              " '2': 'Tuesday',\n",
              " '3': 'Wednesday',\n",
              " '4': 'Thursday',\n",
              " '5': 'Friday',\n",
              " '6': 'Saturday',\n",
              " '7': 'Sunday'}"
            ]
          },
          "execution_count": 44,
          "metadata": {},
          "output_type": "execute_result"
        }
      ],
      "source": [
        "weeks"
      ]
    },
    {
      "cell_type": "markdown",
      "metadata": {
        "id": "M_fugKsd1xIm"
      },
      "source": [
        "#### popitem()"
      ]
    },
    {
      "cell_type": "code",
      "execution_count": null,
      "metadata": {
        "colab": {
          "base_uri": "https://localhost:8080/"
        },
        "id": "pUMrQOAB2WTD",
        "outputId": "2abbe816-9112-4a6a-981c-530046d6c56d"
      },
      "outputs": [
        {
          "name": "stdout",
          "output_type": "stream",
          "text": [
            "('5', 'Friday')\n"
          ]
        }
      ],
      "source": [
        "d = weeks.popitem()\n",
        "print(d)"
      ]
    },
    {
      "cell_type": "code",
      "execution_count": null,
      "metadata": {
        "colab": {
          "base_uri": "https://localhost:8080/"
        },
        "id": "FWUApEi62kEs",
        "outputId": "6823978a-354f-4f74-bed2-de755de0c9f0"
      },
      "outputs": [
        {
          "data": {
            "text/plain": [
              "{'1': 'Mon', '2': 'Tuesday', '3': 'Wednesday', '4': 'Thursday'}"
            ]
          },
          "execution_count": 49,
          "metadata": {},
          "output_type": "execute_result"
        }
      ],
      "source": [
        "weeks"
      ]
    },
    {
      "cell_type": "markdown",
      "metadata": {
        "id": "pr3jcmXk2TyE"
      },
      "source": [
        "#### del"
      ]
    },
    {
      "cell_type": "code",
      "execution_count": null,
      "metadata": {
        "id": "Hqsg3Ll32WvU"
      },
      "outputs": [],
      "source": [
        "del weeks['1']"
      ]
    },
    {
      "cell_type": "code",
      "execution_count": null,
      "metadata": {
        "colab": {
          "base_uri": "https://localhost:8080/"
        },
        "id": "sVYYLXW32n82",
        "outputId": "af808ade-506c-4ec5-a38c-0a12565d892e"
      },
      "outputs": [
        {
          "data": {
            "text/plain": [
              "{'2': 'Tuesday', '3': 'Wednesday', '4': 'Thursday'}"
            ]
          },
          "execution_count": 51,
          "metadata": {},
          "output_type": "execute_result"
        }
      ],
      "source": [
        "weeks"
      ]
    },
    {
      "cell_type": "code",
      "execution_count": null,
      "metadata": {
        "colab": {
          "base_uri": "https://localhost:8080/"
        },
        "id": "2vYHkBN12o8d",
        "outputId": "f1c7326c-d32c-42f5-ae9a-c3d455b9a524"
      },
      "outputs": [
        {
          "data": {
            "text/plain": [
              "{}"
            ]
          },
          "execution_count": 52,
          "metadata": {},
          "output_type": "execute_result"
        }
      ],
      "source": [
        "weeks.clear()\n",
        "weeks"
      ]
    },
    {
      "cell_type": "markdown",
      "metadata": {
        "id": "0TB-Mzxh2wGE"
      },
      "source": [
        "#### Copy a dictionary"
      ]
    },
    {
      "cell_type": "code",
      "execution_count": null,
      "metadata": {
        "colab": {
          "base_uri": "https://localhost:8080/"
        },
        "id": "h-U-gjdN24Tk",
        "outputId": "ef2332d5-3aba-4f7a-ae6b-6b0e97d87d3b"
      },
      "outputs": [
        {
          "data": {
            "text/plain": [
              "{'1': 'Monday'}"
            ]
          },
          "execution_count": 53,
          "metadata": {},
          "output_type": "execute_result"
        }
      ],
      "source": [
        "d2 = weeks\n",
        "weeks['1'] = 'Monday'\n",
        "weeks"
      ]
    },
    {
      "cell_type": "markdown",
      "metadata": {
        "id": "jVWnh_qx2z3M"
      },
      "source": [
        "#### Case statement"
      ]
    },
    {
      "cell_type": "code",
      "execution_count": null,
      "metadata": {
        "id": "j4nGsPbh25Bk"
      },
      "outputs": [],
      "source": [
        "strToNumber = {\n",
        "    'one' : 1,\n",
        "    'two' : 2,\n",
        "    'three' : 3,\n",
        "    'four' : 4,\n",
        "    'five' : 5\n",
        "}"
      ]
    },
    {
      "cell_type": "code",
      "execution_count": null,
      "metadata": {
        "colab": {
          "base_uri": "https://localhost:8080/"
        },
        "id": "ExHeVeLA4cy8",
        "outputId": "1695bead-d07e-494d-c7f4-43d4f4c04627"
      },
      "outputs": [
        {
          "data": {
            "text/plain": [
              "25"
            ]
          },
          "execution_count": 58,
          "metadata": {},
          "output_type": "execute_result"
        }
      ],
      "source": [
        "strToNumber['one'] * strToNumber['five'] ** strToNumber['two']"
      ]
    },
    {
      "cell_type": "code",
      "execution_count": null,
      "metadata": {
        "colab": {
          "base_uri": "https://localhost:8080/",
          "height": 35
        },
        "id": "HG6FD9Zt4o5W",
        "outputId": "6a3b38d1-5d14-4fce-be8b-14e7c444f856"
      },
      "outputs": [
        {
          "data": {
            "application/vnd.google.colaboratory.intrinsic+json": {
              "type": "string"
            },
            "text/plain": [
              "'This number has not yet been created in the dictionary'"
            ]
          },
          "execution_count": 59,
          "metadata": {},
          "output_type": "execute_result"
        }
      ],
      "source": [
        "strToNumber.get('seven', 'This number has not yet been created in the dictionary')"
      ]
    },
    {
      "cell_type": "code",
      "execution_count": null,
      "metadata": {
        "id": "IiayIxlR58k8"
      },
      "outputs": [],
      "source": [
        "engToMon = {\n",
        "    'book' : 'nom'\n",
        "}"
      ]
    },
    {
      "cell_type": "code",
      "execution_count": null,
      "metadata": {
        "colab": {
          "base_uri": "https://localhost:8080/",
          "height": 35
        },
        "id": "2BbXosNA6ABu",
        "outputId": "d06ea514-16a5-4d72-bd52-bd27f34dae0e"
      },
      "outputs": [
        {
          "data": {
            "application/vnd.google.colaboratory.intrinsic+json": {
              "type": "string"
            },
            "text/plain": [
              "'nom'"
            ]
          },
          "execution_count": 63,
          "metadata": {},
          "output_type": "execute_result"
        }
      ],
      "source": [
        "engToMon['book']"
      ]
    },
    {
      "cell_type": "code",
      "execution_count": null,
      "metadata": {
        "colab": {
          "base_uri": "https://localhost:8080/",
          "height": 35
        },
        "id": "oL0dmsZf6KV9",
        "outputId": "eb18d847-2c4e-4dd1-b1fc-7ae52de34d2b"
      },
      "outputs": [
        {
          "data": {
            "application/vnd.google.colaboratory.intrinsic+json": {
              "type": "string"
            },
            "text/plain": [
              "'93'"
            ]
          },
          "execution_count": 64,
          "metadata": {},
          "output_type": "execute_result"
        }
      ],
      "source": [
        "monthToDays = {\n",
        "    '3' : '93'\n",
        "}\n",
        "monthToDays['3']"
      ]
    },
    {
      "cell_type": "markdown",
      "metadata": {
        "id": "mRCzLsFnvVun"
      },
      "source": [
        "## Sets\n",
        "\n",
        "Олонлог маань үүсэхдээ дараалалгүй, индексгүй үүсдэг. Нэг элемент нэг л удаа орсон байдаг."
      ]
    },
    {
      "cell_type": "markdown",
      "metadata": {
        "id": "2akxeQgrvve3"
      },
      "source": [
        "### Basic commands"
      ]
    },
    {
      "cell_type": "markdown",
      "metadata": {
        "id": "D2xOTS2av13H"
      },
      "source": [
        "#### Create a Set"
      ]
    },
    {
      "cell_type": "code",
      "execution_count": null,
      "metadata": {
        "id": "brui5uPtxYVl"
      },
      "outputs": [],
      "source": [
        "my_sets = {1, 2, 5, 3, 20, 24, 25, 7, 9, 9, 7, 1, 1, 1}"
      ]
    },
    {
      "cell_type": "code",
      "execution_count": null,
      "metadata": {
        "colab": {
          "base_uri": "https://localhost:8080/"
        },
        "id": "J_I_5J4eAR3Y",
        "outputId": "d9be23aa-b982-44ba-e73e-772734752b8d"
      },
      "outputs": [
        {
          "name": "stdout",
          "output_type": "stream",
          "text": [
            "{1, 2, 3, 5, 7, 9, 20, 24, 25}\n"
          ]
        }
      ],
      "source": [
        "print(my_sets)"
      ]
    },
    {
      "cell_type": "markdown",
      "metadata": {
        "id": "MOVyWJvMwLD3"
      },
      "source": [
        "#### Access Element\n",
        "Тэд дэх элементийг авая гэж зааж өгч чадахгүй"
      ]
    },
    {
      "cell_type": "code",
      "execution_count": null,
      "metadata": {
        "colab": {
          "base_uri": "https://localhost:8080/",
          "height": 165
        },
        "id": "ebO17CqYxY9e",
        "outputId": "c2b7859b-fec1-4c28-fe9f-2d7f6e10812d"
      },
      "outputs": [
        {
          "ename": "TypeError",
          "evalue": "ignored",
          "output_type": "error",
          "traceback": [
            "\u001b[0;31m---------------------------------------------------------------------------\u001b[0m",
            "\u001b[0;31mTypeError\u001b[0m                                 Traceback (most recent call last)",
            "\u001b[0;32m<ipython-input-11-98445f2e3b2d>\u001b[0m in \u001b[0;36m<cell line: 1>\u001b[0;34m()\u001b[0m\n\u001b[0;32m----> 1\u001b[0;31m \u001b[0mmy_sets\u001b[0m\u001b[0;34m[\u001b[0m\u001b[0;36m0\u001b[0m\u001b[0;34m]\u001b[0m\u001b[0;34m\u001b[0m\u001b[0;34m\u001b[0m\u001b[0m\n\u001b[0m",
            "\u001b[0;31mTypeError\u001b[0m: 'set' object is not subscriptable"
          ]
        }
      ],
      "source": [
        "my_sets[0]"
      ]
    },
    {
      "cell_type": "markdown",
      "metadata": {
        "id": "IVT_JdFCw483"
      },
      "source": [
        "#### Change Items\n",
        "Нэгэнт үүссэн бол доторх элементийг өөрчилж чадахгүй. Гэхдээ tuples()-г бодвол элемент нэмж болдог."
      ]
    },
    {
      "cell_type": "markdown",
      "metadata": {
        "id": "cTXvWfGwBnrI"
      },
      "source": [
        "#### Add Items"
      ]
    },
    {
      "cell_type": "code",
      "execution_count": null,
      "metadata": {
        "id": "Hd_muD8VBrQP"
      },
      "outputs": [],
      "source": [
        "my_sets.add(100)"
      ]
    },
    {
      "cell_type": "code",
      "execution_count": null,
      "metadata": {
        "id": "Is4s51lnDCvI"
      },
      "outputs": [],
      "source": [
        "my_sets.add(20)"
      ]
    },
    {
      "cell_type": "code",
      "execution_count": null,
      "metadata": {
        "colab": {
          "base_uri": "https://localhost:8080/"
        },
        "id": "1pgybOQhDGSp",
        "outputId": "208f3973-c9c7-4e0d-d53c-5c442c53ee18"
      },
      "outputs": [
        {
          "data": {
            "text/plain": [
              "{1, 2, 3, 5, 7, 9, 20, 24, 25, 100}"
            ]
          },
          "execution_count": 15,
          "metadata": {},
          "output_type": "execute_result"
        }
      ],
      "source": [
        "my_sets"
      ]
    },
    {
      "cell_type": "markdown",
      "metadata": {
        "id": "9U7ZkGEUDS2Y"
      },
      "source": [
        "#### Length"
      ]
    },
    {
      "cell_type": "code",
      "execution_count": null,
      "metadata": {
        "colab": {
          "base_uri": "https://localhost:8080/"
        },
        "id": "giAsySLQDM9I",
        "outputId": "044f7a3e-566b-46fa-8626-a473db12c1e6"
      },
      "outputs": [
        {
          "data": {
            "text/plain": [
              "10"
            ]
          },
          "execution_count": 16,
          "metadata": {},
          "output_type": "execute_result"
        }
      ],
      "source": [
        "len(my_sets)"
      ]
    },
    {
      "cell_type": "markdown",
      "metadata": {
        "id": "dAnpX9okDsAA"
      },
      "source": [
        "### Remove Item"
      ]
    },
    {
      "cell_type": "markdown",
      "metadata": {
        "id": "4g1PbCydDvDo"
      },
      "source": [
        "#### Remove"
      ]
    },
    {
      "cell_type": "code",
      "execution_count": null,
      "metadata": {
        "id": "cmWbDDnmEX2w"
      },
      "outputs": [],
      "source": [
        "my_sets.remove(100)"
      ]
    },
    {
      "cell_type": "code",
      "execution_count": null,
      "metadata": {
        "colab": {
          "base_uri": "https://localhost:8080/"
        },
        "id": "J-opNEgiGUzY",
        "outputId": "26ece879-1fc0-4d1c-8af7-9cdc511d6ec9"
      },
      "outputs": [
        {
          "data": {
            "text/plain": [
              "{2, 3, 5, 7, 9, 20, 24, 25}"
            ]
          },
          "execution_count": 20,
          "metadata": {},
          "output_type": "execute_result"
        }
      ],
      "source": [
        "my_sets"
      ]
    },
    {
      "cell_type": "markdown",
      "metadata": {
        "id": "bOhJHtQcEFOY"
      },
      "source": [
        "#### Discard"
      ]
    },
    {
      "cell_type": "code",
      "execution_count": null,
      "metadata": {
        "id": "QR1DB6PKGngo"
      },
      "outputs": [],
      "source": [
        "my_sets.discard(1)"
      ]
    },
    {
      "cell_type": "code",
      "execution_count": null,
      "metadata": {
        "id": "wpK7etcFGtK5"
      },
      "outputs": [],
      "source": [
        "my_sets.discard(2)"
      ]
    },
    {
      "cell_type": "code",
      "execution_count": null,
      "metadata": {
        "colab": {
          "base_uri": "https://localhost:8080/"
        },
        "id": "BrcmcLmxG9rw",
        "outputId": "62ae8a31-45a5-4aad-9bcf-e1c1d229da24"
      },
      "outputs": [
        {
          "data": {
            "text/plain": [
              "{3, 5, 7, 9, 24, 25}"
            ]
          },
          "execution_count": 25,
          "metadata": {},
          "output_type": "execute_result"
        }
      ],
      "source": [
        "my_sets"
      ]
    },
    {
      "cell_type": "markdown",
      "metadata": {
        "id": "DihXgdmEEH-Q"
      },
      "source": [
        "#### Pop"
      ]
    },
    {
      "cell_type": "code",
      "execution_count": null,
      "metadata": {
        "id": "3e9V-5hLHIi4"
      },
      "outputs": [],
      "source": [
        "a = my_sets.pop()"
      ]
    },
    {
      "cell_type": "code",
      "execution_count": null,
      "metadata": {
        "colab": {
          "base_uri": "https://localhost:8080/"
        },
        "id": "L3-ixvF1HQJJ",
        "outputId": "155452fe-5d9c-4d52-d998-25736d712a0c"
      },
      "outputs": [
        {
          "name": "stdout",
          "output_type": "stream",
          "text": [
            "3\n"
          ]
        }
      ],
      "source": [
        "print(a)"
      ]
    },
    {
      "cell_type": "code",
      "execution_count": null,
      "metadata": {
        "colab": {
          "base_uri": "https://localhost:8080/"
        },
        "id": "N5biTJexIcvA",
        "outputId": "463e4949-1bec-4258-e806-90f5ea1cc547"
      },
      "outputs": [
        {
          "data": {
            "text/plain": [
              "{5, 7, 9, 24, 25}"
            ]
          },
          "execution_count": 28,
          "metadata": {},
          "output_type": "execute_result"
        }
      ],
      "source": [
        "my_sets"
      ]
    },
    {
      "cell_type": "markdown",
      "metadata": {
        "id": "ITHmIVmqEJQx"
      },
      "source": [
        "#### Clear"
      ]
    },
    {
      "cell_type": "code",
      "execution_count": null,
      "metadata": {
        "id": "1JXA5DAfIhnA"
      },
      "outputs": [],
      "source": [
        "my_sets.clear()"
      ]
    },
    {
      "cell_type": "code",
      "execution_count": null,
      "metadata": {
        "colab": {
          "base_uri": "https://localhost:8080/"
        },
        "id": "iSLGWoyRIt1B",
        "outputId": "bd29fc83-3444-4662-a106-8f6f3f0382a5"
      },
      "outputs": [
        {
          "data": {
            "text/plain": [
              "set()"
            ]
          },
          "execution_count": 31,
          "metadata": {},
          "output_type": "execute_result"
        }
      ],
      "source": [
        "my_sets"
      ]
    },
    {
      "cell_type": "markdown",
      "metadata": {
        "id": "qk2c_ooRHstP"
      },
      "source": [
        "#### Del"
      ]
    },
    {
      "cell_type": "code",
      "execution_count": null,
      "metadata": {
        "id": "fpb4-59oIzpo"
      },
      "outputs": [],
      "source": [
        "del my_sets"
      ]
    },
    {
      "cell_type": "code",
      "execution_count": null,
      "metadata": {
        "colab": {
          "base_uri": "https://localhost:8080/",
          "height": 165
        },
        "id": "YCGt9KKYI-ug",
        "outputId": "b14f0363-d825-41f5-cf64-09a9bbe88d12"
      },
      "outputs": [
        {
          "ename": "NameError",
          "evalue": "ignored",
          "output_type": "error",
          "traceback": [
            "\u001b[0;31m---------------------------------------------------------------------------\u001b[0m",
            "\u001b[0;31mNameError\u001b[0m                                 Traceback (most recent call last)",
            "\u001b[0;32m<ipython-input-33-f2c1302e3d73>\u001b[0m in \u001b[0;36m<cell line: 1>\u001b[0;34m()\u001b[0m\n\u001b[0;32m----> 1\u001b[0;31m \u001b[0mmy_sets\u001b[0m\u001b[0;34m\u001b[0m\u001b[0;34m\u001b[0m\u001b[0m\n\u001b[0m",
            "\u001b[0;31mNameError\u001b[0m: name 'my_sets' is not defined"
          ]
        }
      ],
      "source": [
        "my_sets"
      ]
    },
    {
      "cell_type": "markdown",
      "metadata": {
        "id": "9WbimdLAHuuB"
      },
      "source": [
        "#### Constructor"
      ]
    },
    {
      "cell_type": "code",
      "execution_count": null,
      "metadata": {
        "colab": {
          "base_uri": "https://localhost:8080/"
        },
        "id": "frqlXeOIJLIB",
        "outputId": "6f4903a9-6b12-457b-a0ad-2df24a795c38"
      },
      "outputs": [
        {
          "data": {
            "text/plain": [
              "{1, 2, 3}"
            ]
          },
          "execution_count": 34,
          "metadata": {},
          "output_type": "execute_result"
        }
      ],
      "source": [
        "set((1, 2, 3))"
      ]
    },
    {
      "cell_type": "code",
      "execution_count": null,
      "metadata": {
        "colab": {
          "base_uri": "https://localhost:8080/"
        },
        "id": "2y6oqrYdJOL6",
        "outputId": "9f95ccfb-9f1d-4fc0-8afe-1f57c2314ec5"
      },
      "outputs": [
        {
          "data": {
            "text/plain": [
              "{1, 2, 3, 4, 5, 6}"
            ]
          },
          "execution_count": 36,
          "metadata": {},
          "output_type": "execute_result"
        }
      ],
      "source": [
        "set([1,2,3,3,3,4,5,6])"
      ]
    },
    {
      "cell_type": "code",
      "execution_count": null,
      "metadata": {
        "id": "APLCT6myJXMZ"
      },
      "outputs": [],
      "source": [
        "lst = [1,2,3,2,2,2,3,4,5,1,3,4,5,6,8]"
      ]
    },
    {
      "cell_type": "code",
      "execution_count": null,
      "metadata": {
        "colab": {
          "base_uri": "https://localhost:8080/"
        },
        "id": "vuLTGzqPKL2x",
        "outputId": "8b441f77-2e32-44c6-8b14-9af20f1bb6ec"
      },
      "outputs": [
        {
          "data": {
            "text/plain": [
              "[1, 2, 3, 2, 2, 2, 3, 4, 5, 1, 3, 4, 5, 6, 8]"
            ]
          },
          "execution_count": 38,
          "metadata": {},
          "output_type": "execute_result"
        }
      ],
      "source": [
        "lst"
      ]
    },
    {
      "cell_type": "code",
      "execution_count": null,
      "metadata": {
        "colab": {
          "base_uri": "https://localhost:8080/"
        },
        "id": "699uU3TnKNH5",
        "outputId": "1efef472-5824-4a10-868b-8c8748e9274d"
      },
      "outputs": [
        {
          "data": {
            "text/plain": [
              "[1, 1, 2, 2, 2, 2, 3, 3, 3, 4, 4, 5, 5, 6, 8]"
            ]
          },
          "execution_count": 39,
          "metadata": {},
          "output_type": "execute_result"
        }
      ],
      "source": [
        "lst.sort()\n",
        "lst"
      ]
    },
    {
      "cell_type": "code",
      "execution_count": null,
      "metadata": {
        "colab": {
          "base_uri": "https://localhost:8080/"
        },
        "id": "S9-uLe6mK3Lp",
        "outputId": "2d945455-aff2-494b-8640-9423dd8b20f2"
      },
      "outputs": [
        {
          "data": {
            "text/plain": [
              "2"
            ]
          },
          "execution_count": 41,
          "metadata": {},
          "output_type": "execute_result"
        }
      ],
      "source": [
        "lst[2]"
      ]
    },
    {
      "cell_type": "code",
      "execution_count": null,
      "metadata": {
        "id": "ZYAJ2joPKRlJ"
      },
      "outputs": [],
      "source": [
        "l = list(set(lst))"
      ]
    },
    {
      "cell_type": "code",
      "execution_count": null,
      "metadata": {
        "colab": {
          "base_uri": "https://localhost:8080/"
        },
        "id": "yGQosNmRLXqh",
        "outputId": "4f1b439e-e61a-42d8-d2b7-589f923d4b76"
      },
      "outputs": [
        {
          "data": {
            "text/plain": [
              "2"
            ]
          },
          "execution_count": 43,
          "metadata": {},
          "output_type": "execute_result"
        }
      ],
      "source": [
        "l[1]"
      ]
    },
    {
      "cell_type": "markdown",
      "metadata": {
        "id": "IzkA1kniseQh"
      },
      "source": [
        "## Set casting"
      ]
    },
    {
      "cell_type": "markdown",
      "metadata": {
        "id": "U_DNgRefshMr"
      },
      "source": [
        "### List"
      ]
    },
    {
      "cell_type": "code",
      "execution_count": null,
      "metadata": {
        "id": "LkaGWIPktBYr"
      },
      "outputs": [],
      "source": [
        "lst = [1, 2, 3, 4, 3, 3, 1, 2, 3]"
      ]
    },
    {
      "cell_type": "code",
      "execution_count": null,
      "metadata": {
        "colab": {
          "base_uri": "https://localhost:8080/"
        },
        "id": "TobBEOD6tQoC",
        "outputId": "35a2c33d-4d0e-4de2-dbe0-2c3a8e1d1e50"
      },
      "outputs": [
        {
          "data": {
            "text/plain": [
              "{1, 2, 3, 4}"
            ]
          },
          "execution_count": 45,
          "metadata": {},
          "output_type": "execute_result"
        }
      ],
      "source": [
        "set(lst)"
      ]
    },
    {
      "cell_type": "code",
      "execution_count": null,
      "metadata": {
        "colab": {
          "base_uri": "https://localhost:8080/"
        },
        "id": "hqdPTC4MtSra",
        "outputId": "a00747dc-34a6-4555-98cf-2dd79cb02b40"
      },
      "outputs": [
        {
          "name": "stdout",
          "output_type": "stream",
          "text": [
            "1 2 3 4 6 7\n",
            "<map object at 0x7ed38d94e740>\n"
          ]
        }
      ],
      "source": [
        "list_1 = map(int, input().split())\n",
        "print(list_1)"
      ]
    },
    {
      "cell_type": "code",
      "execution_count": null,
      "metadata": {
        "colab": {
          "base_uri": "https://localhost:8080/"
        },
        "id": "nlebG9PEwuoT",
        "outputId": "b70bbff5-470d-45f6-9ebd-9f1de7ed5d54"
      },
      "outputs": [
        {
          "name": "stdout",
          "output_type": "stream",
          "text": [
            "{1, 2, 3, 4, 6, 7}\n"
          ]
        }
      ],
      "source": [
        "my_set = set(list_1)\n",
        "print(my_set)"
      ]
    },
    {
      "cell_type": "markdown",
      "metadata": {
        "id": "J_aCSO_5sjT2"
      },
      "source": [
        "### Tuples"
      ]
    },
    {
      "cell_type": "code",
      "execution_count": null,
      "metadata": {
        "colab": {
          "base_uri": "https://localhost:8080/"
        },
        "id": "1byN7GiwxjAb",
        "outputId": "ca072683-7eb2-4edc-97a1-83f0bce2e009"
      },
      "outputs": [
        {
          "data": {
            "text/plain": [
              "{2, 3, 12}"
            ]
          },
          "execution_count": 48,
          "metadata": {},
          "output_type": "execute_result"
        }
      ],
      "source": [
        "set((12, 3, 2, 3))"
      ]
    },
    {
      "cell_type": "markdown",
      "metadata": {
        "id": "pVSgNfE3sofb"
      },
      "source": [
        "### Dictionary"
      ]
    },
    {
      "cell_type": "code",
      "execution_count": null,
      "metadata": {
        "colab": {
          "base_uri": "https://localhost:8080/"
        },
        "id": "UVxgmIE9xuUj",
        "outputId": "92eea310-7c23-4c3e-e667-0c14831fe815"
      },
      "outputs": [
        {
          "name": "stdout",
          "output_type": "stream",
          "text": [
            "{'a': 1, 'b': 2, 'c': 3}\n"
          ]
        }
      ],
      "source": [
        "d = {'a' : 1, 'b' : 2, 'c' : 3}\n",
        "print(d)"
      ]
    },
    {
      "cell_type": "code",
      "execution_count": null,
      "metadata": {
        "colab": {
          "base_uri": "https://localhost:8080/"
        },
        "id": "xiwCBYBC6JLM",
        "outputId": "53feb466-c179-4833-9c08-6463959d9fcd"
      },
      "outputs": [
        {
          "data": {
            "text/plain": [
              "{'a', 'b', 'c'}"
            ]
          },
          "execution_count": 50,
          "metadata": {},
          "output_type": "execute_result"
        }
      ],
      "source": [
        "set(d)"
      ]
    },
    {
      "cell_type": "markdown",
      "metadata": {
        "id": "qWgN8oAZstTr"
      },
      "source": [
        "### Sets"
      ]
    },
    {
      "cell_type": "code",
      "execution_count": null,
      "metadata": {
        "colab": {
          "base_uri": "https://localhost:8080/"
        },
        "id": "GIVLkxPP6ekk",
        "outputId": "9267bd8b-981c-4228-f621-065232cd072b"
      },
      "outputs": [
        {
          "name": "stdout",
          "output_type": "stream",
          "text": [
            "{1, 2, 3, 4, 5, 6, 7}\n"
          ]
        }
      ],
      "source": [
        "print(set(set((1,2,3,4,5,6,7,1))))"
      ]
    },
    {
      "cell_type": "markdown",
      "metadata": {
        "id": "-4O-v3m-s79T"
      },
      "source": [
        "### Enumerate"
      ]
    },
    {
      "cell_type": "code",
      "execution_count": null,
      "metadata": {
        "id": "5lsvWh02_H_D"
      },
      "outputs": [],
      "source": [
        "lst = set(enumerate('Python'))"
      ]
    },
    {
      "cell_type": "code",
      "execution_count": null,
      "metadata": {
        "colab": {
          "base_uri": "https://localhost:8080/"
        },
        "id": "vDuVv6UU_pqV",
        "outputId": "b85bb329-6193-4e3b-b85e-517ba3c80165"
      },
      "outputs": [
        {
          "name": "stdout",
          "output_type": "stream",
          "text": [
            "{(9, 'h'), (1, 'y'), (10, 'o'), (3, 'h'), (0, 'P'), (11, 'n'), (6, 'P'), (4, 'o'), (2, 't'), (7, 'y'), (8, 't'), (5, 'n')}\n"
          ]
        }
      ],
      "source": [
        "print(set(enumerate('PythonPython')))"
      ]
    },
    {
      "cell_type": "markdown",
      "metadata": {
        "id": "82BhHKOiBXha"
      },
      "source": [
        "### Union"
      ]
    },
    {
      "cell_type": "code",
      "execution_count": null,
      "metadata": {
        "id": "GDPil0klBe2U"
      },
      "outputs": [],
      "source": [
        "A = {1, 2, 3, 4}\n",
        "B = {2, 6, 8, 9, 11, 4}"
      ]
    },
    {
      "cell_type": "code",
      "execution_count": null,
      "metadata": {
        "colab": {
          "base_uri": "https://localhost:8080/"
        },
        "id": "ATD6XKmIDE9U",
        "outputId": "40a67135-3f5d-4932-9eb7-0a7edb1e0e9d"
      },
      "outputs": [
        {
          "data": {
            "text/plain": [
              "{1, 2, 3, 4, 6, 8, 9, 11}"
            ]
          },
          "execution_count": 66,
          "metadata": {},
          "output_type": "execute_result"
        }
      ],
      "source": [
        "A.union(B)"
      ]
    },
    {
      "cell_type": "code",
      "execution_count": null,
      "metadata": {
        "colab": {
          "base_uri": "https://localhost:8080/"
        },
        "id": "AqVWCJSmDOTs",
        "outputId": "5f1afff0-5676-43ac-c37e-d933e40bb079"
      },
      "outputs": [
        {
          "data": {
            "text/plain": [
              "{1, 2, 3, 4, 6, 8, 9, 11}"
            ]
          },
          "execution_count": 67,
          "metadata": {},
          "output_type": "execute_result"
        }
      ],
      "source": [
        "A|B"
      ]
    },
    {
      "cell_type": "markdown",
      "metadata": {
        "id": "EIbVt09KDfIq"
      },
      "source": [
        "### Intersection"
      ]
    },
    {
      "cell_type": "code",
      "execution_count": null,
      "metadata": {
        "colab": {
          "base_uri": "https://localhost:8080/"
        },
        "id": "bK4Pd-Y3DdkU",
        "outputId": "bede1f63-ee1f-4bac-bab8-1eb76af4e2aa"
      },
      "outputs": [
        {
          "data": {
            "text/plain": [
              "{2, 4}"
            ]
          },
          "execution_count": 68,
          "metadata": {},
          "output_type": "execute_result"
        }
      ],
      "source": [
        "A.intersection(B)"
      ]
    },
    {
      "cell_type": "code",
      "execution_count": null,
      "metadata": {
        "colab": {
          "base_uri": "https://localhost:8080/"
        },
        "id": "vfpuCJ9PEUd9",
        "outputId": "1d262da2-4582-4fd5-f573-800e39e15f64"
      },
      "outputs": [
        {
          "data": {
            "text/plain": [
              "{2, 4}"
            ]
          },
          "execution_count": 69,
          "metadata": {},
          "output_type": "execute_result"
        }
      ],
      "source": [
        "A&B"
      ]
    },
    {
      "cell_type": "markdown",
      "metadata": {
        "id": "xFbCoImXDwns"
      },
      "source": [
        "### Difference"
      ]
    },
    {
      "cell_type": "code",
      "execution_count": null,
      "metadata": {
        "colab": {
          "base_uri": "https://localhost:8080/"
        },
        "id": "fpJdf1qhEPoV",
        "outputId": "a45b9d73-0e26-418e-c5e3-ecd0db0f5e70"
      },
      "outputs": [
        {
          "data": {
            "text/plain": [
              "{1, 3}"
            ]
          },
          "execution_count": 70,
          "metadata": {},
          "output_type": "execute_result"
        }
      ],
      "source": [
        "A.difference(B)"
      ]
    },
    {
      "cell_type": "code",
      "execution_count": null,
      "metadata": {
        "colab": {
          "base_uri": "https://localhost:8080/"
        },
        "id": "Da7aSgq6FLVM",
        "outputId": "29451a62-b2c6-420b-88d8-05a092ea7ee9"
      },
      "outputs": [
        {
          "data": {
            "text/plain": [
              "{1, 3}"
            ]
          },
          "execution_count": 71,
          "metadata": {},
          "output_type": "execute_result"
        }
      ],
      "source": [
        "A - B"
      ]
    },
    {
      "cell_type": "markdown",
      "metadata": {
        "id": "0lVgfASAEowN"
      },
      "source": [
        "### Symmetric Difference"
      ]
    },
    {
      "cell_type": "code",
      "execution_count": null,
      "metadata": {
        "colab": {
          "base_uri": "https://localhost:8080/"
        },
        "id": "XCoDnpumFlal",
        "outputId": "ac6e1b63-d0d5-4de5-f1dd-d21a278739a9"
      },
      "outputs": [
        {
          "data": {
            "text/plain": [
              "{1, 3, 6, 8, 9, 11}"
            ]
          },
          "execution_count": 72,
          "metadata": {},
          "output_type": "execute_result"
        }
      ],
      "source": [
        "A.symmetric_difference(B)"
      ]
    },
    {
      "cell_type": "code",
      "execution_count": null,
      "metadata": {
        "colab": {
          "base_uri": "https://localhost:8080/"
        },
        "id": "-0DNuSxrFyPN",
        "outputId": "86e3538a-5c97-49ef-8d3f-d865477b74f8"
      },
      "outputs": [
        {
          "data": {
            "text/plain": [
              "{1, 3, 6, 8, 9, 11}"
            ]
          },
          "execution_count": 73,
          "metadata": {},
          "output_type": "execute_result"
        }
      ],
      "source": [
        "A ^ B"
      ]
    },
    {
      "cell_type": "markdown",
      "metadata": {
        "id": "-LRxtKTvFmWq"
      },
      "source": [
        "### .update() or |="
      ]
    },
    {
      "cell_type": "code",
      "execution_count": null,
      "metadata": {
        "id": "fW36fTO2F1md"
      },
      "outputs": [],
      "source": [
        "A.update({2, 3, 4, 5, 99})"
      ]
    },
    {
      "cell_type": "code",
      "execution_count": null,
      "metadata": {
        "colab": {
          "base_uri": "https://localhost:8080/"
        },
        "id": "uOZ9shaHF5k1",
        "outputId": "3dd04c2a-eb71-4cd8-bede-64ff9d2435bc"
      },
      "outputs": [
        {
          "data": {
            "text/plain": [
              "{1, 2, 3, 4, 5, 99}"
            ]
          },
          "execution_count": 75,
          "metadata": {},
          "output_type": "execute_result"
        }
      ],
      "source": [
        "A"
      ]
    },
    {
      "cell_type": "code",
      "execution_count": null,
      "metadata": {
        "id": "mKIiKyqOIvec"
      },
      "outputs": [],
      "source": [
        "A |= {10}"
      ]
    },
    {
      "cell_type": "code",
      "execution_count": null,
      "metadata": {
        "colab": {
          "base_uri": "https://localhost:8080/"
        },
        "id": "8mt4bfeWJOj_",
        "outputId": "708a51b8-5cbd-40e1-b009-1524f2dd4f24"
      },
      "outputs": [
        {
          "data": {
            "text/plain": [
              "{1, 2, 3, 4, 5, 10, 99}"
            ]
          },
          "execution_count": 77,
          "metadata": {},
          "output_type": "execute_result"
        }
      ],
      "source": [
        "A"
      ]
    },
    {
      "cell_type": "markdown",
      "metadata": {
        "id": "N_zJfS3AHUH8"
      },
      "source": [
        "### .intersection_update() or &="
      ]
    },
    {
      "cell_type": "code",
      "execution_count": null,
      "metadata": {
        "colab": {
          "base_uri": "https://localhost:8080/"
        },
        "id": "jZSJ954XF6g9",
        "outputId": "ad957818-88de-42ff-a042-4351bd53b883"
      },
      "outputs": [
        {
          "data": {
            "text/plain": [
              "{2, 4}"
            ]
          },
          "execution_count": 79,
          "metadata": {},
          "output_type": "execute_result"
        }
      ],
      "source": [
        "A.intersection_update(B)\n",
        "A"
      ]
    },
    {
      "cell_type": "code",
      "execution_count": null,
      "metadata": {
        "colab": {
          "base_uri": "https://localhost:8080/"
        },
        "id": "D6FjWcTEJ9nV",
        "outputId": "700459a8-a1b0-40ec-a1ef-5776799c7d01"
      },
      "outputs": [
        {
          "data": {
            "text/plain": [
              "{2, 4}"
            ]
          },
          "execution_count": 80,
          "metadata": {},
          "output_type": "execute_result"
        }
      ],
      "source": [
        "A &= {2, 4}\n",
        "A"
      ]
    },
    {
      "cell_type": "markdown",
      "metadata": {
        "id": "pevYGITBH-UV"
      },
      "source": [
        "### .difference_update() or -="
      ]
    },
    {
      "cell_type": "code",
      "execution_count": null,
      "metadata": {
        "colab": {
          "base_uri": "https://localhost:8080/"
        },
        "id": "1fFHT8KsIOJc",
        "outputId": "77d0640b-a117-4c6e-909b-f3747501c950"
      },
      "outputs": [
        {
          "data": {
            "text/plain": [
              "{2, 4, 6, 8, 9, 11}"
            ]
          },
          "execution_count": 81,
          "metadata": {},
          "output_type": "execute_result"
        }
      ],
      "source": [
        "B"
      ]
    },
    {
      "cell_type": "code",
      "execution_count": null,
      "metadata": {
        "id": "Rp0b5SVSKGcv"
      },
      "outputs": [],
      "source": [
        "B.difference_update({8, 9, 100, 20, 30})"
      ]
    },
    {
      "cell_type": "code",
      "execution_count": null,
      "metadata": {
        "colab": {
          "base_uri": "https://localhost:8080/"
        },
        "id": "SEwZ3Z_pKgsM",
        "outputId": "8dd3d9ae-80e8-42fa-94bd-825bdd582237"
      },
      "outputs": [
        {
          "data": {
            "text/plain": [
              "{2, 4, 6, 11}"
            ]
          },
          "execution_count": 84,
          "metadata": {},
          "output_type": "execute_result"
        }
      ],
      "source": [
        "B"
      ]
    },
    {
      "cell_type": "code",
      "execution_count": null,
      "metadata": {
        "colab": {
          "base_uri": "https://localhost:8080/"
        },
        "id": "oxaXhOliKoQE",
        "outputId": "98f980ee-8423-4433-ac1d-d6b19475ac6e"
      },
      "outputs": [
        {
          "data": {
            "text/plain": [
              "{2, 4, 6}"
            ]
          },
          "execution_count": 86,
          "metadata": {},
          "output_type": "execute_result"
        }
      ],
      "source": [
        "B -= {11}\n",
        "B"
      ]
    },
    {
      "cell_type": "markdown",
      "metadata": {
        "id": "juMF77n6IOhs"
      },
      "source": [
        "### symmetric_difference_update() or ^="
      ]
    },
    {
      "cell_type": "code",
      "execution_count": null,
      "metadata": {
        "id": "loAPLy3jIZil"
      },
      "outputs": [],
      "source": [
        "A.symmetric_difference_update(B)"
      ]
    },
    {
      "cell_type": "code",
      "execution_count": null,
      "metadata": {
        "colab": {
          "base_uri": "https://localhost:8080/"
        },
        "id": "Vu9oC7jlK3V-",
        "outputId": "ea75c4bb-0fee-42e5-a7e3-680b45bae1ab"
      },
      "outputs": [
        {
          "data": {
            "text/plain": [
              "{6}"
            ]
          },
          "execution_count": 88,
          "metadata": {},
          "output_type": "execute_result"
        }
      ],
      "source": [
        "A"
      ]
    },
    {
      "cell_type": "code",
      "execution_count": null,
      "metadata": {
        "id": "SY49tb-EK7vt"
      },
      "outputs": [],
      "source": [
        "A ^= {6, 2, 3, 4, 10}"
      ]
    },
    {
      "cell_type": "code",
      "execution_count": null,
      "metadata": {
        "colab": {
          "base_uri": "https://localhost:8080/"
        },
        "id": "LQrc47E8LaN1",
        "outputId": "1e727b89-4705-4b47-f753-731425490da8"
      },
      "outputs": [
        {
          "data": {
            "text/plain": [
              "{2, 3, 4, 10}"
            ]
          },
          "execution_count": 90,
          "metadata": {},
          "output_type": "execute_result"
        }
      ],
      "source": [
        "A"
      ]
    },
    {
      "cell_type": "markdown",
      "metadata": {
        "id": "fuhoTsJa7DVb"
      },
      "source": [
        "## For"
      ]
    },
    {
      "cell_type": "code",
      "execution_count": null,
      "metadata": {
        "colab": {
          "base_uri": "https://localhost:8080/"
        },
        "id": "MRv51xcm7E7s",
        "outputId": "dbae97f0-18c5-4c69-d193-bcc45e4edb2c"
      },
      "outputs": [
        {
          "name": "stdout",
          "output_type": "stream",
          "text": [
            "P\n",
            "y\n",
            "t\n",
            "h\n",
            "o\n",
            "n\n"
          ]
        }
      ],
      "source": [
        "for c in \"Python\":\n",
        "  print(c)"
      ]
    },
    {
      "cell_type": "code",
      "execution_count": null,
      "metadata": {
        "colab": {
          "base_uri": "https://localhost:8080/"
        },
        "id": "s19HJ6CQ7qeS",
        "outputId": "daaab80e-6e25-4f36-d7cb-322a5b4dc089"
      },
      "outputs": [
        {
          "name": "stdout",
          "output_type": "stream",
          "text": [
            "P_y_t_h_o_n_"
          ]
        }
      ],
      "source": [
        "for c in \"Python\":\n",
        "  print(c, end=\"_\")"
      ]
    },
    {
      "cell_type": "code",
      "execution_count": 1,
      "metadata": {
        "colab": {
          "base_uri": "https://localhost:8080/"
        },
        "id": "olfLF0OG9UGT",
        "outputId": "b4254cde-862b-4b2f-9067-76be8f0887fe"
      },
      "outputs": [],
      "source": [
        "number_list = list(map(int, input(\"Enter any 5 numbers separated by spaces: \\n\").split(\" \")))"
      ]
    },
    {
      "cell_type": "code",
      "execution_count": 2,
      "metadata": {
        "colab": {
          "base_uri": "https://localhost:8080/"
        },
        "id": "BTxHsXkp9cSd",
        "outputId": "28ca1ce0-c1f5-4bb7-9be6-59183d0a8127"
      },
      "outputs": [
        {
          "data": {
            "text/plain": [
              "[2, 3, 4, 5, 6]"
            ]
          },
          "execution_count": 2,
          "metadata": {},
          "output_type": "execute_result"
        }
      ],
      "source": [
        "number_list"
      ]
    },
    {
      "cell_type": "code",
      "execution_count": 3,
      "metadata": {},
      "outputs": [
        {
          "data": {
            "text/plain": [
              "2"
            ]
          },
          "execution_count": 3,
          "metadata": {},
          "output_type": "execute_result"
        }
      ],
      "source": [
        "number_list[0]"
      ]
    },
    {
      "cell_type": "code",
      "execution_count": null,
      "metadata": {
        "colab": {
          "base_uri": "https://localhost:8080/"
        },
        "id": "YjlsKEyf9fUz",
        "outputId": "f15b8a25-0ce0-4828-ec02-fb470bc33572"
      },
      "outputs": [
        {
          "name": "stdout",
          "output_type": "stream",
          "text": [
            "2 is the square of the number 4\n",
            "3 is the square of the number 9\n",
            "4 is the square of the number 16\n",
            "5 is the square of the number 25\n",
            "6 is the square of the number 36\n"
          ]
        }
      ],
      "source": [
        "for el in number_list:\n",
        "  print(\"{} is the square of the number {}\". format(el, el ** 2))"
      ]
    },
    {
      "cell_type": "markdown",
      "metadata": {
        "id": "U3J1mdjrBydi"
      },
      "source": [
        "### Fibonacci Sequence"
      ]
    },
    {
      "cell_type": "markdown",
      "metadata": {
        "id": "aAbuoRnzCbH0"
      },
      "source": [
        "1 2 3 5 8 13 21 34 55 89 144"
      ]
    },
    {
      "cell_type": "code",
      "execution_count": null,
      "metadata": {
        "colab": {
          "base_uri": "https://localhost:8080/"
        },
        "id": "CMvquvxfBw_z",
        "outputId": "f67f3a3e-2151-4133-859d-724ab8ef8f43"
      },
      "outputs": [
        {
          "name": "stdout",
          "output_type": "stream",
          "text": [
            "Enther the number: 5\n",
            "[1, 1, 2, 3, 5]\n"
          ]
        }
      ],
      "source": [
        "fib_list = [1, 1]\n",
        "\n",
        "n = int(input(\"Enther the number: \"))\n",
        "\n",
        "for i in range(2, n):\n",
        "  fib_list.append(fib_list[-2] + fib_list[-1])\n",
        "\n",
        "print(fib_list)"
      ]
    },
    {
      "cell_type": "code",
      "execution_count": null,
      "metadata": {
        "colab": {
          "base_uri": "https://localhost:8080/",
          "height": 252
        },
        "id": "Zx0R-koQVFLt",
        "outputId": "3a7bdcfc-f07c-429f-9092-ea5b1dfb1875"
      },
      "outputs": [
        {
          "name": "stdout",
          "output_type": "stream",
          "text": [
            "1 2 3 4 5 6 7 8 9 10\n"
          ]
        },
        {
          "ename": "TypeError",
          "evalue": "ignored",
          "output_type": "error",
          "traceback": [
            "\u001b[0;31m---------------------------------------------------------------------------\u001b[0m",
            "\u001b[0;31mTypeError\u001b[0m                                 Traceback (most recent call last)",
            "\u001b[0;32m<ipython-input-19-7b0a87ffdcbd>\u001b[0m in \u001b[0;36m<cell line: 1>\u001b[0;34m()\u001b[0m\n\u001b[0;32m----> 1\u001b[0;31m \u001b[0marr\u001b[0m \u001b[0;34m=\u001b[0m \u001b[0mlist\u001b[0m\u001b[0;34m(\u001b[0m\u001b[0mmap\u001b[0m\u001b[0;34m(\u001b[0m\u001b[0mint\u001b[0m\u001b[0;34m,\u001b[0m \u001b[0minput\u001b[0m\u001b[0;34m(\u001b[0m\u001b[0;34m)\u001b[0m\u001b[0;34m.\u001b[0m\u001b[0msplit\u001b[0m\u001b[0;34m(\u001b[0m\u001b[0;34m)\u001b[0m\u001b[0;34m)\u001b[0m\u001b[0;34m)\u001b[0m\u001b[0;34m\u001b[0m\u001b[0;34m\u001b[0m\u001b[0m\n\u001b[0m\u001b[1;32m      2\u001b[0m \u001b[0;34m\u001b[0m\u001b[0m\n\u001b[1;32m      3\u001b[0m \u001b[0mcount_dist\u001b[0m \u001b[0;34m=\u001b[0m \u001b[0;34m{\u001b[0m\u001b[0;34m}\u001b[0m\u001b[0;34m\u001b[0m\u001b[0;34m\u001b[0m\u001b[0m\n\u001b[1;32m      4\u001b[0m \u001b[0;34m\u001b[0m\u001b[0m\n\u001b[1;32m      5\u001b[0m \u001b[0;32mfor\u001b[0m \u001b[0mel\u001b[0m \u001b[0;32min\u001b[0m \u001b[0marr\u001b[0m\u001b[0;34m:\u001b[0m\u001b[0;34m\u001b[0m\u001b[0;34m\u001b[0m\u001b[0m\n",
            "\u001b[0;31mTypeError\u001b[0m: 'list' object is not callable"
          ]
        }
      ],
      "source": [
        "arr = list(map(int, input().split()))\n",
        "\n",
        "count_dist = {}\n",
        "\n",
        "for el in arr:\n",
        "  if el in count_dist:\n",
        "    count_dist[el] += 1\n",
        "  else:\n",
        "    count_dist[el] = 1\n",
        "\n",
        "print(count_dist)"
      ]
    },
    {
      "cell_type": "markdown",
      "metadata": {
        "id": "nyF0Yor_7oO7"
      },
      "source": [
        "## While"
      ]
    },
    {
      "cell_type": "code",
      "execution_count": null,
      "metadata": {
        "colab": {
          "base_uri": "https://localhost:8080/"
        },
        "id": "i6KoggIS7p0K",
        "outputId": "96c5a1dd-e91c-44c9-caff-059b7184c831"
      },
      "outputs": [
        {
          "name": "stdout",
          "output_type": "stream",
          "text": [
            "1\n",
            "2\n",
            "3\n",
            "4\n",
            "5\n",
            "6\n",
            "7\n",
            "8\n",
            "9\n",
            "10\n"
          ]
        }
      ],
      "source": [
        "i = 1\n",
        "\n",
        "while i < 11:\n",
        "  print(i)\n",
        "  i += 1"
      ]
    },
    {
      "cell_type": "code",
      "execution_count": null,
      "metadata": {
        "colab": {
          "base_uri": "https://localhost:8080/"
        },
        "id": "WwJjgMZRXChz",
        "outputId": "c7c1e745-67f1-4141-946d-489712e8463c"
      },
      "outputs": [
        {
          "name": "stdout",
          "output_type": "stream",
          "text": [
            "[1, 1, 2, 3, 5, 8, 13, 21, 34, 55]\n"
          ]
        }
      ],
      "source": [
        "lst = [1, 1]\n",
        "\n",
        "i = 2\n",
        "\n",
        "while i < 10:\n",
        "  lst.append(lst[-1] + lst[-2])\n",
        "  i += 1\n",
        "\n",
        "print(lst)"
      ]
    },
    {
      "cell_type": "code",
      "execution_count": null,
      "metadata": {
        "colab": {
          "base_uri": "https://localhost:8080/"
        },
        "id": "1NOoE7gTXlU-",
        "outputId": "2dc6db03-aad9-47a1-ec4b-8e2801c6ea8e"
      },
      "outputs": [
        {
          "data": {
            "text/plain": [
              "range(2, 51, 2)"
            ]
          },
          "execution_count": 4,
          "metadata": {},
          "output_type": "execute_result"
        }
      ],
      "source": [
        "range(2, 51, 2)"
      ]
    },
    {
      "cell_type": "code",
      "execution_count": null,
      "metadata": {
        "colab": {
          "base_uri": "https://localhost:8080/"
        },
        "id": "-zHo5Oxliz5x",
        "outputId": "b447376f-adf3-49f9-aba2-3b6050983b36"
      },
      "outputs": [
        {
          "data": {
            "text/plain": [
              "[2,\n",
              " 4,\n",
              " 6,\n",
              " 8,\n",
              " 10,\n",
              " 12,\n",
              " 14,\n",
              " 16,\n",
              " 18,\n",
              " 20,\n",
              " 22,\n",
              " 24,\n",
              " 26,\n",
              " 28,\n",
              " 30,\n",
              " 32,\n",
              " 34,\n",
              " 36,\n",
              " 38,\n",
              " 40,\n",
              " 42,\n",
              " 44,\n",
              " 46,\n",
              " 48,\n",
              " 50]"
            ]
          },
          "execution_count": 5,
          "metadata": {},
          "output_type": "execute_result"
        }
      ],
      "source": [
        "list(range(2, 51, 2))"
      ]
    },
    {
      "cell_type": "code",
      "execution_count": null,
      "metadata": {
        "colab": {
          "base_uri": "https://localhost:8080/"
        },
        "id": "-ccyXS4pi9BY",
        "outputId": "2864f44e-8f56-431f-c073-5414299e1d3c"
      },
      "outputs": [
        {
          "name": "stdout",
          "output_type": "stream",
          "text": [
            "Value of n: 40\n",
            "1 3 5 7 9 11 13 15 17 19 21 23 25 27 29 31 33 35 37 39 "
          ]
        }
      ],
      "source": [
        "n = int(input(\"Value of n: \"))\n",
        "\n",
        "for el in range(1, n+1, 2):\n",
        "  print(el, end=' ')"
      ]
    },
    {
      "cell_type": "code",
      "execution_count": null,
      "metadata": {
        "colab": {
          "base_uri": "https://localhost:8080/"
        },
        "id": "vcEUus34kb0p",
        "outputId": "40b8f15e-c5d4-4abf-80d3-c11268118bde"
      },
      "outputs": [
        {
          "name": "stdout",
          "output_type": "stream",
          "text": [
            "[0, 1, 2, 3, 4, 5, 6, 7, 8, 9]\n"
          ]
        }
      ],
      "source": [
        "print(list(range(10)))"
      ]
    },
    {
      "cell_type": "markdown",
      "metadata": {
        "id": "lHTAKMG_nO3n"
      },
      "source": [
        "### Pass"
      ]
    },
    {
      "cell_type": "code",
      "execution_count": null,
      "metadata": {
        "id": "rj0J98LdnSOF"
      },
      "outputs": [],
      "source": [
        "lst = []\n",
        "\n",
        "for i in range(10):\n",
        "  pass"
      ]
    },
    {
      "cell_type": "code",
      "execution_count": null,
      "metadata": {
        "id": "FoB96B0Fnpkt"
      },
      "outputs": [],
      "source": [
        "for i in range(10):\n",
        "  pass\n",
        "  lst.append(i)"
      ]
    },
    {
      "cell_type": "code",
      "execution_count": null,
      "metadata": {
        "colab": {
          "base_uri": "https://localhost:8080/"
        },
        "id": "rDjw1AT9nYgF",
        "outputId": "c909041f-a0ea-43a1-c70d-ae11b5e8c975"
      },
      "outputs": [
        {
          "data": {
            "text/plain": [
              "[0, 1, 2, 3, 4, 5, 6, 7, 8, 9]"
            ]
          },
          "execution_count": 5,
          "metadata": {},
          "output_type": "execute_result"
        }
      ],
      "source": [
        "lst"
      ]
    },
    {
      "cell_type": "markdown",
      "metadata": {
        "id": "AJMbSs5Snaq9"
      },
      "source": [
        "### Break"
      ]
    },
    {
      "cell_type": "code",
      "execution_count": null,
      "metadata": {
        "colab": {
          "base_uri": "https://localhost:8080/"
        },
        "id": "SIUpufg3ncUV",
        "outputId": "8eb5c723-7fdc-4fde-8eb5-18a36963694c"
      },
      "outputs": [
        {
          "name": "stdout",
          "output_type": "stream",
          "text": [
            "[1, 4, 9, 16, 25, 36, 49, 64, 81, 100]\n"
          ]
        }
      ],
      "source": [
        "i = 1\n",
        "lst = []\n",
        "while True:\n",
        "  if i ** 2 > 100:\n",
        "    break\n",
        "  lst.append(i ** 2)\n",
        "  i += 1\n",
        "\n",
        "print(lst)"
      ]
    },
    {
      "cell_type": "code",
      "execution_count": null,
      "metadata": {
        "colab": {
          "base_uri": "https://localhost:8080/"
        },
        "id": "jDH7xhTdqJBm",
        "outputId": "f345829e-2f5c-4a02-c8c6-24e646ae6b2e"
      },
      "outputs": [
        {
          "name": "stdout",
          "output_type": "stream",
          "text": [
            "Please enter a english letter: 12321312\n",
            "If the 12321312 square root of the number you entered 3510.1726453267224.\n"
          ]
        }
      ],
      "source": [
        "s = input(\"Please enter a english letter: \")\n",
        "\n",
        "is_true = False\n",
        "\n",
        "for c in s:\n",
        "  if c not in \"1234567890\":\n",
        "    is_true = True\n",
        "    break\n",
        "\n",
        "if is_true:\n",
        "  print(\"Issue 1 \\n {} other than character is entered!\".format(c))\n",
        "else:\n",
        "  print(\"If the {} square root of the number you entered {}.\".format(int(s), int(s) ** 0.5))"
      ]
    },
    {
      "cell_type": "markdown",
      "metadata": {
        "id": "iaH5X3QVndJ9"
      },
      "source": [
        "### Continue"
      ]
    },
    {
      "cell_type": "code",
      "execution_count": null,
      "metadata": {
        "colab": {
          "base_uri": "https://localhost:8080/"
        },
        "id": "RIMuQM7_n_6-",
        "outputId": "794732e0-d26b-41b0-be96-377544b1ccc5"
      },
      "outputs": [
        {
          "name": "stdout",
          "output_type": "stream",
          "text": [
            "1 1\n",
            "3 4\n",
            "5 3\n",
            "7 6\n",
            "9 5\n",
            "11 8\n",
            "13 7\n",
            "15 10\n",
            "17 9\n",
            "19 12\n",
            "21 11\n",
            "23 14\n",
            "25 13\n",
            "27 16\n",
            "29 15\n"
          ]
        }
      ],
      "source": [
        "# 3, 5 тоонд зэрэг хуваагддаг тоонуудыг хэвлэж харуулая\n",
        "for i in range(1, 31):\n",
        "  if i % 2 == 0:\n",
        "    continue\n",
        "  n = i // 2 + i % 4\n",
        "  print(i, n)"
      ]
    },
    {
      "cell_type": "code",
      "execution_count": null,
      "metadata": {
        "colab": {
          "base_uri": "https://localhost:8080/"
        },
        "id": "BcxKTN0WzBiw",
        "outputId": "6d210aa1-a1a0-47c9-990d-d3849798c46e"
      },
      "outputs": [
        {
          "name": "stdout",
          "output_type": "stream",
          "text": [
            "90\n",
            "Анхны тоо биш\n"
          ]
        }
      ],
      "source": [
        "# Гараас өгсөн тоо анхны тоо мөн эсэхийг шалгах\n",
        "# Зөвхөн 1 болон өөртөө хуваагддаг тоог анхны тоо гэнэ\n",
        "# 2, 3, 5, 7, 11, 13, 17\n",
        "\n",
        "n = int(input())\n",
        "\n",
        "for i in range(2, n):\n",
        "  if n % i == 0:\n",
        "    print(\"Анхны тоо биш\")\n",
        "    break\n",
        "else:\n",
        "  print(\"Анхны тоо мөн\")"
      ]
    },
    {
      "cell_type": "markdown",
      "metadata": {
        "id": "8SvG5C3LwV7o"
      },
      "source": [
        "## Nested Loop"
      ]
    },
    {
      "cell_type": "code",
      "execution_count": null,
      "metadata": {
        "colab": {
          "base_uri": "https://localhost:8080/"
        },
        "id": "MRttHXLjweYf",
        "outputId": "8c47ffc2-e7c7-47e5-c1ee-0329a37ae2e8"
      },
      "outputs": [
        {
          "name": "stdout",
          "output_type": "stream",
          "text": [
            "2 11\n",
            "3 10\n",
            "4 9\n"
          ]
        }
      ],
      "source": [
        "for x in range(1, 5):\n",
        "  for y in range(6, 12):\n",
        "    if x + y == 13:\n",
        "      print(x, y)"
      ]
    },
    {
      "cell_type": "markdown",
      "metadata": {
        "id": "N9PMdyOqwfKv"
      },
      "source": [
        "### Example 1. Noun, verb"
      ]
    },
    {
      "cell_type": "code",
      "execution_count": null,
      "metadata": {
        "colab": {
          "base_uri": "https://localhost:8080/"
        },
        "id": "H26jDqJ8wmFX",
        "outputId": "972c5532-b0d8-469a-dd39-b5460215252c"
      },
      "outputs": [
        {
          "name": "stdout",
          "output_type": "stream",
          "text": [
            "black car\n",
            "black dog\n",
            "black laptop\n",
            "black mouse\n",
            "smart car\n",
            "smart dog\n",
            "smart laptop\n",
            "smart mouse\n",
            "blue car\n",
            "blue dog\n",
            "blue laptop\n",
            "blue mouse\n",
            "green car\n",
            "green dog\n",
            "green laptop\n",
            "green mouse\n",
            "red car\n",
            "red dog\n",
            "red laptop\n",
            "red mouse\n",
            "fast car\n",
            "fast dog\n",
            "fast laptop\n",
            "fast mouse\n"
          ]
        }
      ],
      "source": [
        "noun = ['car', 'dog', 'laptop', 'mouse']\n",
        "adj = ['black', 'smart', 'blue', 'green', 'red', 'fast']\n",
        "\n",
        "for a in adj:\n",
        "  for n in noun:\n",
        "    print(a, n)"
      ]
    },
    {
      "cell_type": "markdown",
      "metadata": {
        "id": "3eKRhY00wk-f"
      },
      "source": [
        "### Example 2. chess square"
      ]
    },
    {
      "cell_type": "code",
      "execution_count": null,
      "metadata": {
        "colab": {
          "base_uri": "https://localhost:8080/"
        },
        "id": "-zf0HBY1wltv",
        "outputId": "918b86e4-2958-4f16-8804-c9a4b17d0d29"
      },
      "outputs": [
        {
          "name": "stdout",
          "output_type": "stream",
          "text": [
            "[[0, 0, 0, 0, 0, 0, 0, 0], [0, 0, 0, 0, 0, 0, 0, 0], [0, 0, 0, 0, 0, 0, 0, 0], [0, 0, 0, 0, 0, 0, 0, 0], [0, 0, 0, 0, 0, 0, 0, 0], [0, 0, 0, 0, 0, 0, 0, 0], [0, 0, 0, 0, 0, 0, 0, 0], [0, 0, 0, 0, 0, 0, 0, 0]]\n"
          ]
        }
      ],
      "source": [
        "# 8 x 8. Fill 0s\n",
        "\n",
        "board = []\n",
        "\n",
        "for r in range(8):\n",
        "  board.append([])\n",
        "  for c in range(8):\n",
        "    board[r].append(0)\n",
        "\n",
        "print(board)"
      ]
    },
    {
      "cell_type": "code",
      "execution_count": null,
      "metadata": {
        "colab": {
          "base_uri": "https://localhost:8080/"
        },
        "id": "dffDzSx8DxOX",
        "outputId": "fd77c9a4-dc15-4612-e900-96912a500239"
      },
      "outputs": [
        {
          "name": "stdout",
          "output_type": "stream",
          "text": [
            "[0, 0, 0, 0, 0, 0, 0, 0]\n",
            "[0, 0, 0, 0, 0, 0, 0, 0]\n",
            "[0, 0, 0, 0, 0, 0, 0, 0]\n",
            "[0, 0, 0, 0, 0, 0, 0, 0]\n",
            "[0, 0, 0, 0, 0, 0, 0, 0]\n",
            "[0, 0, 0, 0, 0, 0, 0, 0]\n",
            "[0, 0, 0, 0, 0, 0, 0, 0]\n",
            "[0, 0, 0, 0, 0, 0, 0, 0]\n"
          ]
        }
      ],
      "source": [
        "for rows in board:\n",
        "  print(rows)"
      ]
    },
    {
      "cell_type": "code",
      "execution_count": null,
      "metadata": {
        "colab": {
          "base_uri": "https://localhost:8080/"
        },
        "id": "0s3Su3OQD8a-",
        "outputId": "a4cfc24e-e742-451d-9288-2246f9ac0d86"
      },
      "outputs": [
        {
          "name": "stdout",
          "output_type": "stream",
          "text": [
            "[0, 0, 0, 0, 0, 0, 0, 0]\n",
            "[0, 0, 0, 0, 0, 0, 0, 0]\n",
            "[0, 0, 0, 0, 0, 0, 0, 0]\n",
            "[0, 0, 0, 0, 0, 0, 0, 0]\n",
            "[0, 0, 0, 0, 0, 0, 0, 0]\n",
            "[0, 0, 0, 0, 0, 0, 0, 0]\n",
            "[0, 0, 0, 0, 0, 0, 0, 0]\n",
            "[0, 0, 0, 0, 0, 0, 0, 0]\n"
          ]
        }
      ],
      "source": [
        "board2 = []\n",
        "\n",
        "for r in range(8):\n",
        "  board2.append([0]*8)\n",
        "\n",
        "for rows in board2:\n",
        "  print(rows)\n"
      ]
    },
    {
      "cell_type": "code",
      "execution_count": null,
      "metadata": {
        "id": "UPl6FvYFHHhH"
      },
      "outputs": [],
      "source": [
        "board2[0][4] = 'B'"
      ]
    },
    {
      "cell_type": "code",
      "execution_count": null,
      "metadata": {
        "colab": {
          "base_uri": "https://localhost:8080/"
        },
        "id": "vmRLTrciHUz-",
        "outputId": "676c5864-eebc-4ac2-d539-2f6fb686330c"
      },
      "outputs": [
        {
          "data": {
            "text/plain": [
              "[[0, 0, 0, 0, 'B', 0, 0, 0],\n",
              " [0, 0, 0, 0, 0, 0, 0, 0],\n",
              " [0, 0, 0, 0, 0, 0, 0, 0],\n",
              " [0, 0, 0, 0, 0, 0, 0, 0],\n",
              " [0, 0, 0, 0, 0, 0, 0, 0],\n",
              " [0, 0, 0, 0, 0, 0, 0, 0],\n",
              " [0, 0, 0, 0, 0, 0, 0, 0],\n",
              " [0, 0, 0, 0, 0, 0, 0, 0]]"
            ]
          },
          "execution_count": 10,
          "metadata": {},
          "output_type": "execute_result"
        }
      ],
      "source": [
        "board2"
      ]
    },
    {
      "cell_type": "code",
      "execution_count": null,
      "metadata": {
        "id": "Gtr8I_ntHWH-"
      },
      "outputs": [],
      "source": [
        "board3 = [[0]*8] * 8"
      ]
    },
    {
      "cell_type": "code",
      "execution_count": null,
      "metadata": {
        "id": "tSHZcFj2HgC-"
      },
      "outputs": [],
      "source": [
        "board3[0][4] = 'B'"
      ]
    },
    {
      "cell_type": "code",
      "execution_count": null,
      "metadata": {
        "id": "ZOIc3AMJHnTO"
      },
      "outputs": [],
      "source": [
        "board3[6][0] = 'H'"
      ]
    },
    {
      "cell_type": "code",
      "execution_count": null,
      "metadata": {
        "colab": {
          "base_uri": "https://localhost:8080/"
        },
        "id": "rr9Izf97HrN-",
        "outputId": "eefaf581-1096-4698-ebbd-64cd34164dc2"
      },
      "outputs": [
        {
          "data": {
            "text/plain": [
              "[['H', 0, 0, 0, 'B', 0, 0, 0],\n",
              " ['H', 0, 0, 0, 'B', 0, 0, 0],\n",
              " ['H', 0, 0, 0, 'B', 0, 0, 0],\n",
              " ['H', 0, 0, 0, 'B', 0, 0, 0],\n",
              " ['H', 0, 0, 0, 'B', 0, 0, 0],\n",
              " ['H', 0, 0, 0, 'B', 0, 0, 0],\n",
              " ['H', 0, 0, 0, 'B', 0, 0, 0],\n",
              " ['H', 0, 0, 0, 'B', 0, 0, 0]]"
            ]
          },
          "execution_count": 16,
          "metadata": {},
          "output_type": "execute_result"
        }
      ],
      "source": [
        "board3"
      ]
    },
    {
      "cell_type": "code",
      "execution_count": null,
      "metadata": {
        "colab": {
          "base_uri": "https://localhost:8080/"
        },
        "id": "7OuLNfDpHsU-",
        "outputId": "80f57e30-cb68-4c0c-dd20-38e4ee7187a0"
      },
      "outputs": [
        {
          "name": "stdout",
          "output_type": "stream",
          "text": [
            "3\n",
            "Harry\n",
            "37.21\n",
            "Betty\n",
            "37.21\n",
            "Tina\n",
            "37\n",
            "Betty\n",
            "Harry\n"
          ]
        }
      ],
      "source": [
        "student = {}\n",
        "for _ in range(int(input())):\n",
        "  name = input()\n",
        "  score = float(input())\n",
        "  student[name] = score\n",
        "scores = list(set(student.values()))\n",
        "scores.sort()\n",
        "k = scores[1]\n",
        "lst = []\n",
        "for name, score in student.items():\n",
        "  if score == k:\n",
        "    lst.append(name)\n",
        "lst.sort()\n",
        "for name in lst:\n",
        "  print(name)"
      ]
    },
    {
      "cell_type": "markdown",
      "metadata": {},
      "source": [
        "## Ternary"
      ]
    },
    {
      "cell_type": "code",
      "execution_count": 92,
      "metadata": {},
      "outputs": [
        {
          "name": "stdout",
          "output_type": "stream",
          "text": [
            "a baga\n"
          ]
        }
      ],
      "source": [
        "a = 10\n",
        "b = 30\n",
        "if a < b:\n",
        "    print(\"a baga\")\n",
        "else:\n",
        "    print(\"b baga\")"
      ]
    },
    {
      "cell_type": "code",
      "execution_count": 93,
      "metadata": {},
      "outputs": [
        {
          "name": "stdout",
          "output_type": "stream",
          "text": [
            "a baga\n"
          ]
        }
      ],
      "source": [
        "a, b = 10, 15\n",
        "\n",
        "print(\"a baga\" if a < b else \"b baga\")"
      ]
    },
    {
      "cell_type": "code",
      "execution_count": 94,
      "metadata": {},
      "outputs": [
        {
          "data": {
            "text/plain": [
              "'True case'"
            ]
          },
          "execution_count": 94,
          "metadata": {},
          "output_type": "execute_result"
        }
      ],
      "source": [
        "\"True case\" if True and True else \"False case\""
      ]
    },
    {
      "cell_type": "markdown",
      "metadata": {},
      "source": [
        "### For"
      ]
    },
    {
      "cell_type": "code",
      "execution_count": 12,
      "metadata": {},
      "outputs": [
        {
          "data": {
            "text/plain": [
              "[1, 2, 3, 4, 5, 6, 7, 8, 9, 10]"
            ]
          },
          "execution_count": 12,
          "metadata": {},
          "output_type": "execute_result"
        }
      ],
      "source": [
        "list(range(1, 11))"
      ]
    },
    {
      "cell_type": "markdown",
      "metadata": {},
      "source": [
        "### List Comprehension"
      ]
    },
    {
      "cell_type": "code",
      "execution_count": 9,
      "metadata": {},
      "outputs": [
        {
          "data": {
            "text/plain": [
              "[1, 4, 9, 16, 25, 36, 49, 64, 81, 100]"
            ]
          },
          "execution_count": 9,
          "metadata": {},
          "output_type": "execute_result"
        }
      ],
      "source": [
        "[i ** 2 for i in range(1, 11)]"
      ]
    },
    {
      "cell_type": "code",
      "execution_count": 10,
      "metadata": {},
      "outputs": [
        {
          "data": {
            "text/plain": [
              "[11, 22, 23, 33, 44, 46, 55, 66, 69, 77, 88, 92, 99]"
            ]
          },
          "execution_count": 10,
          "metadata": {},
          "output_type": "execute_result"
        }
      ],
      "source": [
        "[i for i in range(1, 100) if i % 11 == 0 or i % 23 == 0]"
      ]
    },
    {
      "cell_type": "code",
      "execution_count": 11,
      "metadata": {},
      "outputs": [
        {
          "data": {
            "text/plain": [
              "[(1, 'odd'),\n",
              " (2, 'even'),\n",
              " (3, 'odd'),\n",
              " (4, 'even'),\n",
              " (5, 'odd'),\n",
              " (6, 'even'),\n",
              " (7, 'odd'),\n",
              " (8, 'even'),\n",
              " (9, 'odd'),\n",
              " (10, 'even')]"
            ]
          },
          "execution_count": 11,
          "metadata": {},
          "output_type": "execute_result"
        }
      ],
      "source": [
        "[(i, \"even\") if i % 2 == 0 else (i, \"odd\") for i in range(1, 11) ]"
      ]
    },
    {
      "cell_type": "code",
      "execution_count": 8,
      "metadata": {},
      "outputs": [
        {
          "data": {
            "text/plain": [
              "[3, 4, 5, 6, 8, 10, 9, 12, 15]"
            ]
          },
          "execution_count": 8,
          "metadata": {},
          "output_type": "execute_result"
        }
      ],
      "source": [
        "[x * y for x in range(1,4) for y in range(3, 6)]"
      ]
    },
    {
      "cell_type": "code",
      "execution_count": 7,
      "metadata": {},
      "outputs": [
        {
          "name": "stdout",
          "output_type": "stream",
          "text": [
            "[[0, 0, 0], [0, 0, 1], [0, 0, 2], [0, 1, 0], [0, 1, 1], [1, 0, 0], [1, 0, 1], [1, 1, 0], [1, 1, 2]]\n"
          ]
        }
      ],
      "source": [
        "x = int(input())\n",
        "y = int(input())\n",
        "z = int(input())\n",
        "n = int(input())\n",
        "print([[i, j, k] for i in range(0, x+1) for j in range(0, y+1) for k in range(0, z+1) if (i+j+k) != n])"
      ]
    },
    {
      "cell_type": "markdown",
      "metadata": {},
      "source": [
        "## Function"
      ]
    },
    {
      "cell_type": "markdown",
      "metadata": {},
      "source": [
        "### create a function"
      ]
    },
    {
      "cell_type": "code",
      "execution_count": 1,
      "metadata": {},
      "outputs": [],
      "source": [
        "def sum_of_two(p1, p2):\n",
        "    print(\"Sum of {}, {} is {}\".format(p1, p2, p1 + p2))"
      ]
    },
    {
      "cell_type": "code",
      "execution_count": 3,
      "metadata": {},
      "outputs": [],
      "source": [
        "def greetings():\n",
        "    print(\"Hello!\")"
      ]
    },
    {
      "cell_type": "code",
      "execution_count": 2,
      "metadata": {},
      "outputs": [
        {
          "name": "stdout",
          "output_type": "stream",
          "text": [
            "Sum of 10, 21 is 31\n"
          ]
        }
      ],
      "source": [
        "sum_of_two(10, 21)"
      ]
    },
    {
      "cell_type": "code",
      "execution_count": 4,
      "metadata": {},
      "outputs": [
        {
          "name": "stdout",
          "output_type": "stream",
          "text": [
            "Hello!\n"
          ]
        }
      ],
      "source": [
        "greetings()"
      ]
    },
    {
      "cell_type": "code",
      "execution_count": 5,
      "metadata": {},
      "outputs": [],
      "source": [
        "def hello(name):\n",
        "    print(\"Hello, {}!\".format(name))"
      ]
    },
    {
      "cell_type": "code",
      "execution_count": 6,
      "metadata": {},
      "outputs": [
        {
          "name": "stdout",
          "output_type": "stream",
          "text": [
            "Hello, Dalai!\n"
          ]
        }
      ],
      "source": [
        "hello(\"Dalai\")"
      ]
    },
    {
      "cell_type": "markdown",
      "metadata": {},
      "source": [
        "### Default parameter"
      ]
    },
    {
      "cell_type": "code",
      "execution_count": 15,
      "metadata": {},
      "outputs": [
        {
          "name": "stdout",
          "output_type": "stream",
          "text": [
            "I am from USA\n",
            "I am from Mongolia\n"
          ]
        }
      ],
      "source": [
        "def country(c = \"Mongolia\"):\n",
        "    print(\"I am from {}\".format(c))\n",
        "\n",
        "country(\"USA\")\n",
        "country()"
      ]
    },
    {
      "cell_type": "markdown",
      "metadata": {},
      "source": [
        "### Sequence parameters"
      ]
    },
    {
      "cell_type": "code",
      "execution_count": 18,
      "metadata": {},
      "outputs": [
        {
          "name": "stdout",
          "output_type": "stream",
          "text": [
            "1\n",
            "23\n",
            "9\n",
            "2\n",
            "4\n",
            "\n",
            "\n",
            "P\n",
            "y\n",
            "t\n",
            "h\n",
            "o\n",
            "n\n",
            "\n",
            "\n",
            "1\n",
            "2\n",
            "3\n",
            "4\n",
            "5\n",
            "\n",
            "\n",
            "d\n",
            "a\n",
            "w\n",
            "\n",
            "\n"
          ]
        }
      ],
      "source": [
        "def print_elements(s):\n",
        "    for i in s:\n",
        "        print(i)\n",
        "\n",
        "\n",
        "print_elements([1, 23, 9, 2, 4])\n",
        "print(\"\\n\")\n",
        "print_elements(\"Python\")\n",
        "print(\"\\n\")\n",
        "print_elements({1,2,3,1,3,4,5,2})\n",
        "print(\"\\n\")\n",
        "print_elements({\"d\": 2, \"a\": 11, \"w\": 2})\n",
        "print(\"\\n\")"
      ]
    },
    {
      "cell_type": "markdown",
      "metadata": {},
      "source": [
        "### Return"
      ]
    },
    {
      "cell_type": "code",
      "execution_count": 1,
      "metadata": {},
      "outputs": [],
      "source": [
        "def my_square(a):\n",
        "    return a ** 2"
      ]
    },
    {
      "cell_type": "code",
      "execution_count": 2,
      "metadata": {},
      "outputs": [
        {
          "name": "stdout",
          "output_type": "stream",
          "text": [
            "4\n"
          ]
        }
      ],
      "source": [
        "b = my_square(2)\n",
        "print(b)"
      ]
    },
    {
      "cell_type": "code",
      "execution_count": 10,
      "metadata": {},
      "outputs": [],
      "source": [
        "# n-s baga hamgiin ih anhnii toog oldog\n",
        "def is_prime(n):\n",
        "    if n % 2 == 0:\n",
        "        return False\n",
        "    \n",
        "    for i in range(3, n // 2 + 1):\n",
        "        if n % i == 0:\n",
        "            return False\n",
        "        \n",
        "    return True"
      ]
    },
    {
      "cell_type": "code",
      "execution_count": 11,
      "metadata": {},
      "outputs": [],
      "source": [
        "def find_prime(n):\n",
        "    for i in range(n - 1, 1, -1):\n",
        "        if is_prime(i):\n",
        "            return i\n",
        "    return \"Nothing\""
      ]
    },
    {
      "cell_type": "code",
      "execution_count": 14,
      "metadata": {},
      "outputs": [
        {
          "data": {
            "text/plain": [
              "97"
            ]
          },
          "execution_count": 14,
          "metadata": {},
          "output_type": "execute_result"
        }
      ],
      "source": [
        "find_prime(100)"
      ]
    },
    {
      "cell_type": "code",
      "execution_count": 15,
      "metadata": {},
      "outputs": [
        {
          "data": {
            "text/plain": [
              "47"
            ]
          },
          "execution_count": 15,
          "metadata": {},
          "output_type": "execute_result"
        }
      ],
      "source": [
        "find_prime(50)"
      ]
    },
    {
      "cell_type": "code",
      "execution_count": 7,
      "metadata": {},
      "outputs": [
        {
          "name": "stdout",
          "output_type": "stream",
          "text": [
            "[8, 7, 6, 5, 4, 3, 2, 1]\n"
          ]
        }
      ],
      "source": [
        "arr = list(map(int, input().split()))\n",
        "\n",
        "for i in range (len(arr)):\n",
        "    for j in range (len(arr)):\n",
        "        if arr[i] > arr[j]:\n",
        "            arr[j], arr[i] = arr[i], arr[j]\n",
        "\n",
        "print(arr)"
      ]
    },
    {
      "cell_type": "markdown",
      "metadata": {},
      "source": [
        "n = 5\n",
        "\n",
        "fac(n) = 1 * 2 * 3 * ... * (n-1) * n\n",
        "\n",
        "fac(5) = 1 * 2 * 3 * 4 * 5\n",
        "\n",
        "fac(3) = 1 * 2 * 3"
      ]
    },
    {
      "cell_type": "code",
      "execution_count": 1,
      "metadata": {},
      "outputs": [],
      "source": [
        "def factorial(n):\n",
        "    if n == 1 or n == 0:\n",
        "        return 1\n",
        "    else:\n",
        "        return n * factorial(n - 1)"
      ]
    },
    {
      "cell_type": "code",
      "execution_count": 2,
      "metadata": {},
      "outputs": [
        {
          "data": {
            "text/plain": [
              "120"
            ]
          },
          "execution_count": 2,
          "metadata": {},
          "output_type": "execute_result"
        }
      ],
      "source": [
        "factorial(5)"
      ]
    },
    {
      "cell_type": "code",
      "execution_count": 3,
      "metadata": {},
      "outputs": [
        {
          "data": {
            "text/plain": [
              "720"
            ]
          },
          "execution_count": 3,
          "metadata": {},
          "output_type": "execute_result"
        }
      ],
      "source": [
        "factorial(6)"
      ]
    },
    {
      "cell_type": "code",
      "execution_count": 11,
      "metadata": {},
      "outputs": [
        {
          "name": "stdout",
          "output_type": "stream",
          "text": [
            "Palindrome\n",
            "\n"
          ]
        }
      ],
      "source": [
        "s = 'маам'\n",
        "\n",
        "if s[::] == s[::-1]:\n",
        "    print(\"Palindrome\")\n",
        "else:\n",
        "    print(\"Not palindrome\")\n",
        "\n",
        "\n",
        "print(s[3:-1:-1])"
      ]
    },
    {
      "cell_type": "code",
      "execution_count": 17,
      "metadata": {},
      "outputs": [
        {
          "data": {
            "text/plain": [
              "False"
            ]
          },
          "execution_count": 17,
          "metadata": {},
          "output_type": "execute_result"
        }
      ],
      "source": [
        "def pal(s):\n",
        "    if len(s) < 2:\n",
        "        return True\n",
        "    if s[0] == s[-1]:\n",
        "        return True and pal(s[1:len(s)-1])\n",
        "    else:\n",
        "        return False\n",
        "    \n",
        "pal(\"abcdcba\")\n",
        "pal(str(134331))"
      ]
    }
  ],
  "metadata": {
    "colab": {
      "collapsed_sections": [
        "6KLmmwCebOhe",
        "eoRoD-JFmXTy",
        "RWk-e34FUzK1",
        "kxMNHoMkYOWp",
        "dJHMHtUiaN_e",
        "e8am_EJ-ftoV",
        "-HE-dSqpibwd",
        "IeXNm72OkYJW",
        "kStuSx12kvAu",
        "J09t44X6ky3H",
        "kkieB2OLTCuy",
        "_b7jionele1k",
        "n948Q7JHmNdD",
        "O-2F_ljL7gqX"
      ],
      "provenance": [],
      "toc_visible": true
    },
    "kernelspec": {
      "display_name": "Python 3",
      "name": "python3"
    },
    "language_info": {
      "codemirror_mode": {
        "name": "ipython",
        "version": 3
      },
      "file_extension": ".py",
      "mimetype": "text/x-python",
      "name": "python",
      "nbconvert_exporter": "python",
      "pygments_lexer": "ipython3",
      "version": "3.8.10"
    }
  },
  "nbformat": 4,
  "nbformat_minor": 0
}
